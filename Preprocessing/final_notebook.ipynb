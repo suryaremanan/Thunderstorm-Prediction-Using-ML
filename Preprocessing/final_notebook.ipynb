{
 "cells": [
  {
   "cell_type": "markdown",
   "id": "799d2ccd-b60e-4198-8ca6-f203a71b22f3",
   "metadata": {},
   "source": [
    "# Lightning Prediction"
   ]
  },
  {
   "cell_type": "markdown",
   "id": "25993d7c-61c2-4a2c-a0bf-1e91bbdb5740",
   "metadata": {},
   "source": [
    "Importing necessary libraries"
   ]
  },
  {
   "cell_type": "code",
   "execution_count": 1,
   "id": "0bee6f73-48e8-4f95-8908-aa3f8d98df8b",
   "metadata": {
    "tags": []
   },
   "outputs": [
    {
     "name": "stderr",
     "output_type": "stream",
     "text": [
      "2022-02-06 06:08:33.724687: W tensorflow/stream_executor/platform/default/dso_loader.cc:64] Could not load dynamic library 'libcudart.so.11.0'; dlerror: libcudart.so.11.0: cannot open shared object file: No such file or directory\n",
      "2022-02-06 06:08:33.724721: I tensorflow/stream_executor/cuda/cudart_stub.cc:29] Ignore above cudart dlerror if you do not have a GPU set up on your machine.\n"
     ]
    }
   ],
   "source": [
    "import numpy as np # linear algebra\n",
    "import pandas as pd # data processing, CSV file I/O (e.g. pd.read_csv)\n",
    "import tensorflow as tf\n",
    "import matplotlib.pyplot as plt\n",
    "import seaborn as sns\n",
    "from sklearn.manifold import TSNE\n",
    "from sklearn.decomposition import PCA, TruncatedSVD\n",
    "import matplotlib.patches as mpatches\n",
    "import time\n",
    "\n",
    "# Classifier Libraries\n",
    "from sklearn.linear_model import LogisticRegression\n",
    "from sklearn.svm import SVC\n",
    "from sklearn.neighbors import KNeighborsClassifier\n",
    "from sklearn.tree import DecisionTreeClassifier\n",
    "from sklearn.ensemble import RandomForestClassifier\n",
    "import collections\n",
    "\n",
    "\n",
    "# Other Libraries\n",
    "from sklearn.model_selection import train_test_split\n",
    "from sklearn.pipeline import make_pipeline\n",
    "from imblearn.pipeline import make_pipeline as imbalanced_make_pipeline\n",
    "from imblearn.over_sampling import SMOTE\n",
    "from imblearn.under_sampling import NearMiss\n",
    "from imblearn.metrics import classification_report_imbalanced\n",
    "from sklearn.metrics import precision_score, recall_score, f1_score, roc_auc_score, accuracy_score, classification_report\n",
    "from collections import Counter\n",
    "from sklearn.model_selection import KFold, StratifiedKFold\n",
    "import pickle\n",
    "import warnings\n",
    "warnings.filterwarnings(\"ignore\")\n"
   ]
  },
  {
   "cell_type": "markdown",
   "id": "3c3c144a-0fb2-4186-8d28-56d3deec8e22",
   "metadata": {},
   "source": [
    "Load the Dataset"
   ]
  },
  {
   "cell_type": "code",
   "execution_count": 2,
   "id": "3b82a99c-51dd-4943-8338-04791a567b0e",
   "metadata": {},
   "outputs": [
    {
     "data": {
      "text/html": [
       "<div>\n",
       "<style scoped>\n",
       "    .dataframe tbody tr th:only-of-type {\n",
       "        vertical-align: middle;\n",
       "    }\n",
       "\n",
       "    .dataframe tbody tr th {\n",
       "        vertical-align: top;\n",
       "    }\n",
       "\n",
       "    .dataframe thead th {\n",
       "        text-align: right;\n",
       "    }\n",
       "</style>\n",
       "<table border=\"1\" class=\"dataframe\">\n",
       "  <thead>\n",
       "    <tr style=\"text-align: right;\">\n",
       "      <th></th>\n",
       "      <th>Unnamed: 0</th>\n",
       "      <th>QV2M</th>\n",
       "      <th>RH2M</th>\n",
       "      <th>PRECTOTCORR</th>\n",
       "      <th>T2M</th>\n",
       "      <th>T2MDEW</th>\n",
       "      <th>T2MWET</th>\n",
       "      <th>PS</th>\n",
       "      <th>WS10M</th>\n",
       "      <th>WD10M</th>\n",
       "      <th>WS50M</th>\n",
       "      <th>WD50M</th>\n",
       "      <th>timestamp</th>\n",
       "      <th>lightning</th>\n",
       "    </tr>\n",
       "  </thead>\n",
       "  <tbody>\n",
       "    <tr>\n",
       "      <th>0</th>\n",
       "      <td>0</td>\n",
       "      <td>7.26</td>\n",
       "      <td>83.75</td>\n",
       "      <td>0.0</td>\n",
       "      <td>11.85</td>\n",
       "      <td>9.22</td>\n",
       "      <td>10.54</td>\n",
       "      <td>100.34</td>\n",
       "      <td>1.39</td>\n",
       "      <td>157.90</td>\n",
       "      <td>1.80</td>\n",
       "      <td>145.97</td>\n",
       "      <td>2002-01-01 00:00:00</td>\n",
       "      <td>0</td>\n",
       "    </tr>\n",
       "    <tr>\n",
       "      <th>1</th>\n",
       "      <td>1</td>\n",
       "      <td>7.26</td>\n",
       "      <td>84.94</td>\n",
       "      <td>0.0</td>\n",
       "      <td>11.69</td>\n",
       "      <td>9.26</td>\n",
       "      <td>10.48</td>\n",
       "      <td>100.33</td>\n",
       "      <td>1.25</td>\n",
       "      <td>160.66</td>\n",
       "      <td>1.54</td>\n",
       "      <td>147.04</td>\n",
       "      <td>2002-01-01 01:00:00</td>\n",
       "      <td>0</td>\n",
       "    </tr>\n",
       "    <tr>\n",
       "      <th>2</th>\n",
       "      <td>2</td>\n",
       "      <td>7.32</td>\n",
       "      <td>86.56</td>\n",
       "      <td>0.0</td>\n",
       "      <td>11.46</td>\n",
       "      <td>9.32</td>\n",
       "      <td>10.39</td>\n",
       "      <td>100.31</td>\n",
       "      <td>0.99</td>\n",
       "      <td>150.20</td>\n",
       "      <td>1.20</td>\n",
       "      <td>130.52</td>\n",
       "      <td>2002-01-01 02:00:00</td>\n",
       "      <td>0</td>\n",
       "    </tr>\n",
       "    <tr>\n",
       "      <th>3</th>\n",
       "      <td>3</td>\n",
       "      <td>7.32</td>\n",
       "      <td>88.69</td>\n",
       "      <td>0.0</td>\n",
       "      <td>11.12</td>\n",
       "      <td>9.34</td>\n",
       "      <td>10.23</td>\n",
       "      <td>100.30</td>\n",
       "      <td>0.99</td>\n",
       "      <td>139.79</td>\n",
       "      <td>1.27</td>\n",
       "      <td>119.40</td>\n",
       "      <td>2002-01-01 03:00:00</td>\n",
       "      <td>0</td>\n",
       "    </tr>\n",
       "    <tr>\n",
       "      <th>4</th>\n",
       "      <td>4</td>\n",
       "      <td>7.32</td>\n",
       "      <td>91.81</td>\n",
       "      <td>0.0</td>\n",
       "      <td>10.61</td>\n",
       "      <td>9.35</td>\n",
       "      <td>9.98</td>\n",
       "      <td>100.34</td>\n",
       "      <td>1.32</td>\n",
       "      <td>142.72</td>\n",
       "      <td>1.71</td>\n",
       "      <td>127.97</td>\n",
       "      <td>2002-01-01 04:00:00</td>\n",
       "      <td>0</td>\n",
       "    </tr>\n",
       "  </tbody>\n",
       "</table>\n",
       "</div>"
      ],
      "text/plain": [
       "   Unnamed: 0  QV2M   RH2M  PRECTOTCORR    T2M  T2MDEW  T2MWET      PS  WS10M  \\\n",
       "0           0  7.26  83.75          0.0  11.85    9.22   10.54  100.34   1.39   \n",
       "1           1  7.26  84.94          0.0  11.69    9.26   10.48  100.33   1.25   \n",
       "2           2  7.32  86.56          0.0  11.46    9.32   10.39  100.31   0.99   \n",
       "3           3  7.32  88.69          0.0  11.12    9.34   10.23  100.30   0.99   \n",
       "4           4  7.32  91.81          0.0  10.61    9.35    9.98  100.34   1.32   \n",
       "\n",
       "    WD10M  WS50M   WD50M            timestamp  lightning  \n",
       "0  157.90   1.80  145.97  2002-01-01 00:00:00          0  \n",
       "1  160.66   1.54  147.04  2002-01-01 01:00:00          0  \n",
       "2  150.20   1.20  130.52  2002-01-01 02:00:00          0  \n",
       "3  139.79   1.27  119.40  2002-01-01 03:00:00          0  \n",
       "4  142.72   1.71  127.97  2002-01-01 04:00:00          0  "
      ]
     },
     "execution_count": 2,
     "metadata": {},
     "output_type": "execute_result"
    }
   ],
   "source": [
    "df = pd.read_csv('garo_train.csv')\n",
    "df.head()"
   ]
  },
  {
   "cell_type": "code",
   "execution_count": 3,
   "id": "008931fe-ae32-4b5f-a6f0-ec2cc4b23f08",
   "metadata": {},
   "outputs": [],
   "source": [
    "df = df.drop('timestamp', 1)\n"
   ]
  },
  {
   "cell_type": "code",
   "execution_count": 4,
   "id": "ea880617-d610-4dc1-986e-320ab8cc11e9",
   "metadata": {},
   "outputs": [],
   "source": [
    "df = df.iloc[: , 1:]"
   ]
  },
  {
   "cell_type": "code",
   "execution_count": 5,
   "id": "c84465b7-d901-41eb-a221-0eaaf79efa42",
   "metadata": {},
   "outputs": [
    {
     "data": {
      "text/html": [
       "<div>\n",
       "<style scoped>\n",
       "    .dataframe tbody tr th:only-of-type {\n",
       "        vertical-align: middle;\n",
       "    }\n",
       "\n",
       "    .dataframe tbody tr th {\n",
       "        vertical-align: top;\n",
       "    }\n",
       "\n",
       "    .dataframe thead th {\n",
       "        text-align: right;\n",
       "    }\n",
       "</style>\n",
       "<table border=\"1\" class=\"dataframe\">\n",
       "  <thead>\n",
       "    <tr style=\"text-align: right;\">\n",
       "      <th></th>\n",
       "      <th>QV2M</th>\n",
       "      <th>RH2M</th>\n",
       "      <th>PRECTOTCORR</th>\n",
       "      <th>T2M</th>\n",
       "      <th>T2MDEW</th>\n",
       "      <th>T2MWET</th>\n",
       "      <th>PS</th>\n",
       "      <th>WS10M</th>\n",
       "      <th>WD10M</th>\n",
       "      <th>WS50M</th>\n",
       "      <th>WD50M</th>\n",
       "      <th>lightning</th>\n",
       "    </tr>\n",
       "  </thead>\n",
       "  <tbody>\n",
       "    <tr>\n",
       "      <th>0</th>\n",
       "      <td>7.26</td>\n",
       "      <td>83.75</td>\n",
       "      <td>0.0</td>\n",
       "      <td>11.85</td>\n",
       "      <td>9.22</td>\n",
       "      <td>10.54</td>\n",
       "      <td>100.34</td>\n",
       "      <td>1.39</td>\n",
       "      <td>157.90</td>\n",
       "      <td>1.80</td>\n",
       "      <td>145.97</td>\n",
       "      <td>0</td>\n",
       "    </tr>\n",
       "    <tr>\n",
       "      <th>1</th>\n",
       "      <td>7.26</td>\n",
       "      <td>84.94</td>\n",
       "      <td>0.0</td>\n",
       "      <td>11.69</td>\n",
       "      <td>9.26</td>\n",
       "      <td>10.48</td>\n",
       "      <td>100.33</td>\n",
       "      <td>1.25</td>\n",
       "      <td>160.66</td>\n",
       "      <td>1.54</td>\n",
       "      <td>147.04</td>\n",
       "      <td>0</td>\n",
       "    </tr>\n",
       "    <tr>\n",
       "      <th>2</th>\n",
       "      <td>7.32</td>\n",
       "      <td>86.56</td>\n",
       "      <td>0.0</td>\n",
       "      <td>11.46</td>\n",
       "      <td>9.32</td>\n",
       "      <td>10.39</td>\n",
       "      <td>100.31</td>\n",
       "      <td>0.99</td>\n",
       "      <td>150.20</td>\n",
       "      <td>1.20</td>\n",
       "      <td>130.52</td>\n",
       "      <td>0</td>\n",
       "    </tr>\n",
       "    <tr>\n",
       "      <th>3</th>\n",
       "      <td>7.32</td>\n",
       "      <td>88.69</td>\n",
       "      <td>0.0</td>\n",
       "      <td>11.12</td>\n",
       "      <td>9.34</td>\n",
       "      <td>10.23</td>\n",
       "      <td>100.30</td>\n",
       "      <td>0.99</td>\n",
       "      <td>139.79</td>\n",
       "      <td>1.27</td>\n",
       "      <td>119.40</td>\n",
       "      <td>0</td>\n",
       "    </tr>\n",
       "    <tr>\n",
       "      <th>4</th>\n",
       "      <td>7.32</td>\n",
       "      <td>91.81</td>\n",
       "      <td>0.0</td>\n",
       "      <td>10.61</td>\n",
       "      <td>9.35</td>\n",
       "      <td>9.98</td>\n",
       "      <td>100.34</td>\n",
       "      <td>1.32</td>\n",
       "      <td>142.72</td>\n",
       "      <td>1.71</td>\n",
       "      <td>127.97</td>\n",
       "      <td>0</td>\n",
       "    </tr>\n",
       "  </tbody>\n",
       "</table>\n",
       "</div>"
      ],
      "text/plain": [
       "   QV2M   RH2M  PRECTOTCORR    T2M  T2MDEW  T2MWET      PS  WS10M   WD10M  \\\n",
       "0  7.26  83.75          0.0  11.85    9.22   10.54  100.34   1.39  157.90   \n",
       "1  7.26  84.94          0.0  11.69    9.26   10.48  100.33   1.25  160.66   \n",
       "2  7.32  86.56          0.0  11.46    9.32   10.39  100.31   0.99  150.20   \n",
       "3  7.32  88.69          0.0  11.12    9.34   10.23  100.30   0.99  139.79   \n",
       "4  7.32  91.81          0.0  10.61    9.35    9.98  100.34   1.32  142.72   \n",
       "\n",
       "   WS50M   WD50M  lightning  \n",
       "0   1.80  145.97          0  \n",
       "1   1.54  147.04          0  \n",
       "2   1.20  130.52          0  \n",
       "3   1.27  119.40          0  \n",
       "4   1.71  127.97          0  "
      ]
     },
     "execution_count": 5,
     "metadata": {},
     "output_type": "execute_result"
    }
   ],
   "source": [
    "df.head()"
   ]
  },
  {
   "cell_type": "code",
   "execution_count": 6,
   "id": "7258a0df-91f5-4bcf-a92f-e7c5fcdf5a44",
   "metadata": {},
   "outputs": [
    {
     "data": {
      "text/html": [
       "<div>\n",
       "<style scoped>\n",
       "    .dataframe tbody tr th:only-of-type {\n",
       "        vertical-align: middle;\n",
       "    }\n",
       "\n",
       "    .dataframe tbody tr th {\n",
       "        vertical-align: top;\n",
       "    }\n",
       "\n",
       "    .dataframe thead th {\n",
       "        text-align: right;\n",
       "    }\n",
       "</style>\n",
       "<table border=\"1\" class=\"dataframe\">\n",
       "  <thead>\n",
       "    <tr style=\"text-align: right;\">\n",
       "      <th></th>\n",
       "      <th>QV2M</th>\n",
       "      <th>RH2M</th>\n",
       "      <th>PRECTOTCORR</th>\n",
       "      <th>T2M</th>\n",
       "      <th>T2MDEW</th>\n",
       "      <th>T2MWET</th>\n",
       "      <th>PS</th>\n",
       "      <th>WS10M</th>\n",
       "      <th>WD10M</th>\n",
       "      <th>WS50M</th>\n",
       "      <th>WD50M</th>\n",
       "      <th>lightning</th>\n",
       "    </tr>\n",
       "  </thead>\n",
       "  <tbody>\n",
       "    <tr>\n",
       "      <th>count</th>\n",
       "      <td>8760.000000</td>\n",
       "      <td>8760.000000</td>\n",
       "      <td>8760.000000</td>\n",
       "      <td>8760.000000</td>\n",
       "      <td>8760.000000</td>\n",
       "      <td>8760.000000</td>\n",
       "      <td>8760.000000</td>\n",
       "      <td>8760.000000</td>\n",
       "      <td>8760.000000</td>\n",
       "      <td>8760.000000</td>\n",
       "      <td>8760.000000</td>\n",
       "      <td>8760.000000</td>\n",
       "    </tr>\n",
       "    <tr>\n",
       "      <th>mean</th>\n",
       "      <td>14.952540</td>\n",
       "      <td>77.275826</td>\n",
       "      <td>0.248977</td>\n",
       "      <td>23.903945</td>\n",
       "      <td>19.255986</td>\n",
       "      <td>21.579974</td>\n",
       "      <td>99.344704</td>\n",
       "      <td>2.143208</td>\n",
       "      <td>146.844572</td>\n",
       "      <td>3.328655</td>\n",
       "      <td>146.876040</td>\n",
       "      <td>0.030023</td>\n",
       "    </tr>\n",
       "    <tr>\n",
       "      <th>std</th>\n",
       "      <td>5.075079</td>\n",
       "      <td>16.350700</td>\n",
       "      <td>0.740163</td>\n",
       "      <td>5.854475</td>\n",
       "      <td>5.861242</td>\n",
       "      <td>5.501281</td>\n",
       "      <td>0.598432</td>\n",
       "      <td>0.900442</td>\n",
       "      <td>86.799518</td>\n",
       "      <td>1.492232</td>\n",
       "      <td>84.912727</td>\n",
       "      <td>0.170660</td>\n",
       "    </tr>\n",
       "    <tr>\n",
       "      <th>min</th>\n",
       "      <td>5.000000</td>\n",
       "      <td>23.690000</td>\n",
       "      <td>0.000000</td>\n",
       "      <td>8.500000</td>\n",
       "      <td>3.700000</td>\n",
       "      <td>6.720000</td>\n",
       "      <td>97.500000</td>\n",
       "      <td>0.010000</td>\n",
       "      <td>0.000000</td>\n",
       "      <td>0.020000</td>\n",
       "      <td>0.000000</td>\n",
       "      <td>0.000000</td>\n",
       "    </tr>\n",
       "    <tr>\n",
       "      <th>25%</th>\n",
       "      <td>10.130000</td>\n",
       "      <td>66.060000</td>\n",
       "      <td>0.000000</td>\n",
       "      <td>19.650000</td>\n",
       "      <td>14.120000</td>\n",
       "      <td>17.080000</td>\n",
       "      <td>98.880000</td>\n",
       "      <td>1.550000</td>\n",
       "      <td>74.045000</td>\n",
       "      <td>2.220000</td>\n",
       "      <td>76.390000</td>\n",
       "      <td>0.000000</td>\n",
       "    </tr>\n",
       "    <tr>\n",
       "      <th>50%</th>\n",
       "      <td>15.440000</td>\n",
       "      <td>80.000000</td>\n",
       "      <td>0.000000</td>\n",
       "      <td>25.160000</td>\n",
       "      <td>20.705000</td>\n",
       "      <td>23.010000</td>\n",
       "      <td>99.380000</td>\n",
       "      <td>2.080000</td>\n",
       "      <td>134.595000</td>\n",
       "      <td>3.240000</td>\n",
       "      <td>135.185000</td>\n",
       "      <td>0.000000</td>\n",
       "    </tr>\n",
       "    <tr>\n",
       "      <th>75%</th>\n",
       "      <td>19.710000</td>\n",
       "      <td>91.560000</td>\n",
       "      <td>0.160000</td>\n",
       "      <td>28.230000</td>\n",
       "      <td>24.650000</td>\n",
       "      <td>26.350000</td>\n",
       "      <td>99.830000</td>\n",
       "      <td>2.630000</td>\n",
       "      <td>211.907500</td>\n",
       "      <td>4.320000</td>\n",
       "      <td>210.902500</td>\n",
       "      <td>0.000000</td>\n",
       "    </tr>\n",
       "    <tr>\n",
       "      <th>max</th>\n",
       "      <td>24.050000</td>\n",
       "      <td>100.000000</td>\n",
       "      <td>31.190000</td>\n",
       "      <td>35.590000</td>\n",
       "      <td>27.870000</td>\n",
       "      <td>30.010000</td>\n",
       "      <td>100.700000</td>\n",
       "      <td>5.980000</td>\n",
       "      <td>359.760000</td>\n",
       "      <td>8.800000</td>\n",
       "      <td>359.800000</td>\n",
       "      <td>1.000000</td>\n",
       "    </tr>\n",
       "  </tbody>\n",
       "</table>\n",
       "</div>"
      ],
      "text/plain": [
       "              QV2M         RH2M  PRECTOTCORR          T2M       T2MDEW  \\\n",
       "count  8760.000000  8760.000000  8760.000000  8760.000000  8760.000000   \n",
       "mean     14.952540    77.275826     0.248977    23.903945    19.255986   \n",
       "std       5.075079    16.350700     0.740163     5.854475     5.861242   \n",
       "min       5.000000    23.690000     0.000000     8.500000     3.700000   \n",
       "25%      10.130000    66.060000     0.000000    19.650000    14.120000   \n",
       "50%      15.440000    80.000000     0.000000    25.160000    20.705000   \n",
       "75%      19.710000    91.560000     0.160000    28.230000    24.650000   \n",
       "max      24.050000   100.000000    31.190000    35.590000    27.870000   \n",
       "\n",
       "            T2MWET           PS        WS10M        WD10M        WS50M  \\\n",
       "count  8760.000000  8760.000000  8760.000000  8760.000000  8760.000000   \n",
       "mean     21.579974    99.344704     2.143208   146.844572     3.328655   \n",
       "std       5.501281     0.598432     0.900442    86.799518     1.492232   \n",
       "min       6.720000    97.500000     0.010000     0.000000     0.020000   \n",
       "25%      17.080000    98.880000     1.550000    74.045000     2.220000   \n",
       "50%      23.010000    99.380000     2.080000   134.595000     3.240000   \n",
       "75%      26.350000    99.830000     2.630000   211.907500     4.320000   \n",
       "max      30.010000   100.700000     5.980000   359.760000     8.800000   \n",
       "\n",
       "             WD50M    lightning  \n",
       "count  8760.000000  8760.000000  \n",
       "mean    146.876040     0.030023  \n",
       "std      84.912727     0.170660  \n",
       "min       0.000000     0.000000  \n",
       "25%      76.390000     0.000000  \n",
       "50%     135.185000     0.000000  \n",
       "75%     210.902500     0.000000  \n",
       "max     359.800000     1.000000  "
      ]
     },
     "execution_count": 6,
     "metadata": {},
     "output_type": "execute_result"
    }
   ],
   "source": [
    "df.describe()"
   ]
  },
  {
   "cell_type": "code",
   "execution_count": 7,
   "id": "c9b5cdfd-52a7-454d-a492-119612d182e8",
   "metadata": {},
   "outputs": [
    {
     "data": {
      "text/plain": [
       "0"
      ]
     },
     "execution_count": 7,
     "metadata": {},
     "output_type": "execute_result"
    }
   ],
   "source": [
    "df.isnull().sum().max()"
   ]
  },
  {
   "cell_type": "markdown",
   "id": "4c1bd674-1015-47b9-8cbe-67e6a62b060c",
   "metadata": {},
   "source": [
    "No Null Values"
   ]
  },
  {
   "cell_type": "code",
   "execution_count": 8,
   "id": "e6dfd67c-7182-43d2-a75d-995e6335a07b",
   "metadata": {},
   "outputs": [
    {
     "name": "stdout",
     "output_type": "stream",
     "text": [
      "No Lightning 97.0 % of the dataset\n",
      "Lightning 3.0 % of the dataset\n"
     ]
    }
   ],
   "source": [
    "# The classes are heavily skewed we need to solve this issue later.\n",
    "print('No Lightning', round(df['lightning'].value_counts()[0]/len(df) * 100,2), '% of the dataset')\n",
    "print('Lightning', round(df['lightning'].value_counts()[1]/len(df) * 100,2), '% of the dataset')"
   ]
  },
  {
   "cell_type": "code",
   "execution_count": 9,
   "id": "50846537-7769-43cc-aad4-af0d6a719db8",
   "metadata": {},
   "outputs": [],
   "source": [
    "#scaling the columns \n",
    "from sklearn.preprocessing import StandardScaler, RobustScaler\n",
    "\n",
    "# RobustScaler is less prone to outliers.\n",
    "\n",
    "std_scaler = StandardScaler()\n",
    "rob_scaler = RobustScaler()\n",
    "\n",
    "df['sc_RH2M'] = rob_scaler.fit_transform(df['RH2M'].values.reshape(-1,1))\n",
    "df['sc_QV2M'] = rob_scaler.fit_transform(df['QV2M'].values.reshape(-1,1))\n",
    "df['sc_PRECTOTCORR'] = rob_scaler.fit_transform(df['PRECTOTCORR'].values.reshape(-1,1))\n",
    "df['sc_T2M'] = rob_scaler.fit_transform(df['T2M'].values.reshape(-1,1))\n",
    "df['sc_T2MDEW'] = rob_scaler.fit_transform(df['T2MDEW'].values.reshape(-1,1))\n",
    "df['sc_T2MWET'] = rob_scaler.fit_transform(df['T2MWET'].values.reshape(-1,1))\n",
    "df['sc_PS'] = rob_scaler.fit_transform(df['PS'].values.reshape(-1,1))\n",
    "df['sc_WS10M'] = rob_scaler.fit_transform(df['WS10M'].values.reshape(-1,1))\n",
    "df['sc_WD10M'] = rob_scaler.fit_transform(df['WD10M'].values.reshape(-1,1))\n",
    "df['sc_WS50M'] = rob_scaler.fit_transform(df['WS50M'].values.reshape(-1,1))\n",
    "df['sc_WD50M'] = rob_scaler.fit_transform(df['WD50M'].values.reshape(-1,1))\n",
    "df.drop(['RH2M','QV2M','PRECTOTCORR', 'T2M','T2MDEW','T2MWET','PS','WS10M','WD10M','WS50M','WD50M'], axis=1, inplace=True)"
   ]
  },
  {
   "cell_type": "code",
   "execution_count": 10,
   "id": "f0c7420c-14cd-4db0-9c57-975810c8cac8",
   "metadata": {},
   "outputs": [
    {
     "data": {
      "text/html": [
       "<div>\n",
       "<style scoped>\n",
       "    .dataframe tbody tr th:only-of-type {\n",
       "        vertical-align: middle;\n",
       "    }\n",
       "\n",
       "    .dataframe tbody tr th {\n",
       "        vertical-align: top;\n",
       "    }\n",
       "\n",
       "    .dataframe thead th {\n",
       "        text-align: right;\n",
       "    }\n",
       "</style>\n",
       "<table border=\"1\" class=\"dataframe\">\n",
       "  <thead>\n",
       "    <tr style=\"text-align: right;\">\n",
       "      <th></th>\n",
       "      <th>lightning</th>\n",
       "      <th>sc_RH2M</th>\n",
       "      <th>sc_QV2M</th>\n",
       "      <th>sc_PRECTOTCORR</th>\n",
       "      <th>sc_T2M</th>\n",
       "      <th>sc_T2MDEW</th>\n",
       "      <th>sc_T2MWET</th>\n",
       "      <th>sc_PS</th>\n",
       "      <th>sc_WS10M</th>\n",
       "      <th>sc_WD10M</th>\n",
       "      <th>sc_WS50M</th>\n",
       "      <th>sc_WD50M</th>\n",
       "    </tr>\n",
       "  </thead>\n",
       "  <tbody>\n",
       "    <tr>\n",
       "      <th>0</th>\n",
       "      <td>0</td>\n",
       "      <td>0.147059</td>\n",
       "      <td>-0.853862</td>\n",
       "      <td>0.0</td>\n",
       "      <td>-1.551282</td>\n",
       "      <td>-1.090693</td>\n",
       "      <td>-1.345200</td>\n",
       "      <td>1.010526</td>\n",
       "      <td>-0.638889</td>\n",
       "      <td>0.169045</td>\n",
       "      <td>-0.685714</td>\n",
       "      <td>0.080178</td>\n",
       "    </tr>\n",
       "    <tr>\n",
       "      <th>1</th>\n",
       "      <td>0</td>\n",
       "      <td>0.193725</td>\n",
       "      <td>-0.853862</td>\n",
       "      <td>0.0</td>\n",
       "      <td>-1.569930</td>\n",
       "      <td>-1.086895</td>\n",
       "      <td>-1.351672</td>\n",
       "      <td>1.000000</td>\n",
       "      <td>-0.768519</td>\n",
       "      <td>0.189065</td>\n",
       "      <td>-0.809524</td>\n",
       "      <td>0.088133</td>\n",
       "    </tr>\n",
       "    <tr>\n",
       "      <th>2</th>\n",
       "      <td>0</td>\n",
       "      <td>0.257255</td>\n",
       "      <td>-0.847599</td>\n",
       "      <td>0.0</td>\n",
       "      <td>-1.596737</td>\n",
       "      <td>-1.081197</td>\n",
       "      <td>-1.361381</td>\n",
       "      <td>0.978947</td>\n",
       "      <td>-1.009259</td>\n",
       "      <td>0.113192</td>\n",
       "      <td>-0.971429</td>\n",
       "      <td>-0.034681</td>\n",
       "    </tr>\n",
       "    <tr>\n",
       "      <th>3</th>\n",
       "      <td>0</td>\n",
       "      <td>0.340784</td>\n",
       "      <td>-0.847599</td>\n",
       "      <td>0.0</td>\n",
       "      <td>-1.636364</td>\n",
       "      <td>-1.079297</td>\n",
       "      <td>-1.378641</td>\n",
       "      <td>0.968421</td>\n",
       "      <td>-1.009259</td>\n",
       "      <td>0.037682</td>\n",
       "      <td>-0.938095</td>\n",
       "      <td>-0.117350</td>\n",
       "    </tr>\n",
       "    <tr>\n",
       "      <th>4</th>\n",
       "      <td>0</td>\n",
       "      <td>0.463137</td>\n",
       "      <td>-0.847599</td>\n",
       "      <td>0.0</td>\n",
       "      <td>-1.695804</td>\n",
       "      <td>-1.078348</td>\n",
       "      <td>-1.405609</td>\n",
       "      <td>1.010526</td>\n",
       "      <td>-0.703704</td>\n",
       "      <td>0.058936</td>\n",
       "      <td>-0.728571</td>\n",
       "      <td>-0.053638</td>\n",
       "    </tr>\n",
       "  </tbody>\n",
       "</table>\n",
       "</div>"
      ],
      "text/plain": [
       "   lightning   sc_RH2M   sc_QV2M  sc_PRECTOTCORR    sc_T2M  sc_T2MDEW  \\\n",
       "0          0  0.147059 -0.853862             0.0 -1.551282  -1.090693   \n",
       "1          0  0.193725 -0.853862             0.0 -1.569930  -1.086895   \n",
       "2          0  0.257255 -0.847599             0.0 -1.596737  -1.081197   \n",
       "3          0  0.340784 -0.847599             0.0 -1.636364  -1.079297   \n",
       "4          0  0.463137 -0.847599             0.0 -1.695804  -1.078348   \n",
       "\n",
       "   sc_T2MWET     sc_PS  sc_WS10M  sc_WD10M  sc_WS50M  sc_WD50M  \n",
       "0  -1.345200  1.010526 -0.638889  0.169045 -0.685714  0.080178  \n",
       "1  -1.351672  1.000000 -0.768519  0.189065 -0.809524  0.088133  \n",
       "2  -1.361381  0.978947 -1.009259  0.113192 -0.971429 -0.034681  \n",
       "3  -1.378641  0.968421 -1.009259  0.037682 -0.938095 -0.117350  \n",
       "4  -1.405609  1.010526 -0.703704  0.058936 -0.728571 -0.053638  "
      ]
     },
     "execution_count": 10,
     "metadata": {},
     "output_type": "execute_result"
    }
   ],
   "source": [
    "df.head()"
   ]
  },
  {
   "cell_type": "code",
   "execution_count": 11,
   "id": "e78f59a2-5570-49e3-80b4-adb908bcd40d",
   "metadata": {},
   "outputs": [
    {
     "name": "stdout",
     "output_type": "stream",
     "text": [
      "No Lightning 97.0 % of the dataset\n",
      "Lightning 3.0 % of the dataset\n",
      "Train: [1721 1722 1723 ... 8757 8758 8759] Test: [   0    1    2 ... 2201 2345 2346]\n",
      "Train: [   0    1    2 ... 8757 8758 8759] Test: [1721 1722 1723 ... 3525 3526 3527]\n",
      "Train: [   0    1    2 ... 8757 8758 8759] Test: [3209 3210 3211 ... 5293 5294 5295]\n",
      "Train: [   0    1    2 ... 8757 8758 8759] Test: [4104 4267 4268 ... 7055 7056 7057]\n",
      "Train: [   0    1    2 ... 7055 7056 7057] Test: [5660 5661 5677 ... 8757 8758 8759]\n",
      "----------------------------------------------------------------------------------------------------\n",
      "Label Distributions: \n",
      "\n",
      "[0.97003425 0.02996575]\n",
      "[0.96974886 0.03025114]\n"
     ]
    }
   ],
   "source": [
    "from sklearn.model_selection import train_test_split\n",
    "from sklearn.model_selection import StratifiedShuffleSplit\n",
    "\n",
    "print('No Lightning', round(df['lightning'].value_counts()[0]/len(df) * 100,2), '% of the dataset')\n",
    "print('Lightning', round(df['lightning'].value_counts()[1]/len(df) * 100,2), '% of the dataset')\n",
    "\n",
    "X = df.drop('lightning', axis=1)\n",
    "y = df['lightning']\n",
    "\n",
    "sss = StratifiedKFold(n_splits=5, random_state=None, shuffle=False)\n",
    "\n",
    "for train_index, test_index in sss.split(X, y):\n",
    "    print(\"Train:\", train_index, \"Test:\", test_index)\n",
    "    original_Xtrain, original_Xtest = X.iloc[train_index], X.iloc[test_index]\n",
    "    original_ytrain, original_ytest = y.iloc[train_index], y.iloc[test_index]\n",
    "\n",
    "# We already have X_train and y_train for undersample data thats why I am using original to distinguish and to not overwrite these variables.\n",
    "# original_Xtrain, original_Xtest, original_ytrain, original_ytest = train_test_split(X, y, test_size=0.2, random_state=42)\n",
    "\n",
    "# Check the Distribution of the labels\n",
    "\n",
    "\n",
    "# Turn into an array\n",
    "original_Xtrain = original_Xtrain.values\n",
    "original_Xtest = original_Xtest.values\n",
    "original_ytrain = original_ytrain.values\n",
    "original_ytest = original_ytest.values\n",
    "\n",
    "# See if both the train and test label distribution are similarly distributed\n",
    "train_unique_label, train_counts_label = np.unique(original_ytrain, return_counts=True)\n",
    "test_unique_label, test_counts_label = np.unique(original_ytest, return_counts=True)\n",
    "print('-' * 100)\n",
    "\n",
    "print('Label Distributions: \\n')\n",
    "print(train_counts_label/ len(original_ytrain))\n",
    "print(test_counts_label/ len(original_ytest))"
   ]
  },
  {
   "cell_type": "code",
   "execution_count": 12,
   "id": "c0623e38-411e-4f37-bd2e-d544a5dae012",
   "metadata": {},
   "outputs": [
    {
     "data": {
      "text/plain": [
       "263"
      ]
     },
     "execution_count": 12,
     "metadata": {},
     "output_type": "execute_result"
    }
   ],
   "source": [
    "df['lightning'].value_counts()[1]"
   ]
  },
  {
   "cell_type": "code",
   "execution_count": 13,
   "id": "4efdb81d-fb83-496a-a211-035e11c53bc3",
   "metadata": {},
   "outputs": [
    {
     "data": {
      "text/html": [
       "<div>\n",
       "<style scoped>\n",
       "    .dataframe tbody tr th:only-of-type {\n",
       "        vertical-align: middle;\n",
       "    }\n",
       "\n",
       "    .dataframe tbody tr th {\n",
       "        vertical-align: top;\n",
       "    }\n",
       "\n",
       "    .dataframe thead th {\n",
       "        text-align: right;\n",
       "    }\n",
       "</style>\n",
       "<table border=\"1\" class=\"dataframe\">\n",
       "  <thead>\n",
       "    <tr style=\"text-align: right;\">\n",
       "      <th></th>\n",
       "      <th>lightning</th>\n",
       "      <th>sc_RH2M</th>\n",
       "      <th>sc_QV2M</th>\n",
       "      <th>sc_PRECTOTCORR</th>\n",
       "      <th>sc_T2M</th>\n",
       "      <th>sc_T2MDEW</th>\n",
       "      <th>sc_T2MWET</th>\n",
       "      <th>sc_PS</th>\n",
       "      <th>sc_WS10M</th>\n",
       "      <th>sc_WD10M</th>\n",
       "      <th>sc_WS50M</th>\n",
       "      <th>sc_WD50M</th>\n",
       "    </tr>\n",
       "  </thead>\n",
       "  <tbody>\n",
       "    <tr>\n",
       "      <th>7946</th>\n",
       "      <td>0</td>\n",
       "      <td>0.784314</td>\n",
       "      <td>-0.407098</td>\n",
       "      <td>0.000</td>\n",
       "      <td>-1.076923</td>\n",
       "      <td>-0.426876</td>\n",
       "      <td>-0.748652</td>\n",
       "      <td>0.568421</td>\n",
       "      <td>0.240741</td>\n",
       "      <td>-0.349878</td>\n",
       "      <td>0.561905</td>\n",
       "      <td>-0.374352</td>\n",
       "    </tr>\n",
       "    <tr>\n",
       "      <th>5566</th>\n",
       "      <td>0</td>\n",
       "      <td>0.683922</td>\n",
       "      <td>0.401879</td>\n",
       "      <td>3.375</td>\n",
       "      <td>-0.058275</td>\n",
       "      <td>0.337607</td>\n",
       "      <td>0.156419</td>\n",
       "      <td>-0.557895</td>\n",
       "      <td>0.379630</td>\n",
       "      <td>-0.412694</td>\n",
       "      <td>0.809524</td>\n",
       "      <td>-0.421485</td>\n",
       "    </tr>\n",
       "    <tr>\n",
       "      <th>5888</th>\n",
       "      <td>1</td>\n",
       "      <td>-0.654510</td>\n",
       "      <td>0.318372</td>\n",
       "      <td>0.375</td>\n",
       "      <td>0.735431</td>\n",
       "      <td>0.277778</td>\n",
       "      <td>0.489752</td>\n",
       "      <td>0.073684</td>\n",
       "      <td>-0.981481</td>\n",
       "      <td>0.635525</td>\n",
       "      <td>-0.914286</td>\n",
       "      <td>0.603252</td>\n",
       "    </tr>\n",
       "    <tr>\n",
       "      <th>3562</th>\n",
       "      <td>1</td>\n",
       "      <td>-0.784314</td>\n",
       "      <td>0.108559</td>\n",
       "      <td>0.125</td>\n",
       "      <td>0.609557</td>\n",
       "      <td>0.100190</td>\n",
       "      <td>0.330097</td>\n",
       "      <td>-0.126316</td>\n",
       "      <td>0.203704</td>\n",
       "      <td>-0.434890</td>\n",
       "      <td>-0.200000</td>\n",
       "      <td>-0.404684</td>\n",
       "    </tr>\n",
       "    <tr>\n",
       "      <th>1477</th>\n",
       "      <td>1</td>\n",
       "      <td>-1.659216</td>\n",
       "      <td>-0.720251</td>\n",
       "      <td>0.000</td>\n",
       "      <td>0.241259</td>\n",
       "      <td>-0.876068</td>\n",
       "      <td>-0.394822</td>\n",
       "      <td>0.042105</td>\n",
       "      <td>0.212963</td>\n",
       "      <td>1.096273</td>\n",
       "      <td>-0.142857</td>\n",
       "      <td>1.052133</td>\n",
       "    </tr>\n",
       "  </tbody>\n",
       "</table>\n",
       "</div>"
      ],
      "text/plain": [
       "      lightning   sc_RH2M   sc_QV2M  sc_PRECTOTCORR    sc_T2M  sc_T2MDEW  \\\n",
       "7946          0  0.784314 -0.407098           0.000 -1.076923  -0.426876   \n",
       "5566          0  0.683922  0.401879           3.375 -0.058275   0.337607   \n",
       "5888          1 -0.654510  0.318372           0.375  0.735431   0.277778   \n",
       "3562          1 -0.784314  0.108559           0.125  0.609557   0.100190   \n",
       "1477          1 -1.659216 -0.720251           0.000  0.241259  -0.876068   \n",
       "\n",
       "      sc_T2MWET     sc_PS  sc_WS10M  sc_WD10M  sc_WS50M  sc_WD50M  \n",
       "7946  -0.748652  0.568421  0.240741 -0.349878  0.561905 -0.374352  \n",
       "5566   0.156419 -0.557895  0.379630 -0.412694  0.809524 -0.421485  \n",
       "5888   0.489752  0.073684 -0.981481  0.635525 -0.914286  0.603252  \n",
       "3562   0.330097 -0.126316  0.203704 -0.434890 -0.200000 -0.404684  \n",
       "1477  -0.394822  0.042105  0.212963  1.096273 -0.142857  1.052133  "
      ]
     },
     "execution_count": 13,
     "metadata": {},
     "output_type": "execute_result"
    }
   ],
   "source": [
    "# Since our classes are highly skewed we should make them equivalent in order to have a normal distribution of the classes.\n",
    "\n",
    "# Lets shuffle the data before creating the subsamples\n",
    "\n",
    "df = df.sample(frac=1)\n",
    "\n",
    "# amount of fraud classes 492 rows.\n",
    "lightning_df = df.loc[df['lightning'] == 1]\n",
    "no_lightning_df = df.loc[df['lightning'] == 0][:263]\n",
    "\n",
    "normal_distributed_df = pd.concat([lightning_df, no_lightning_df])\n",
    "\n",
    "# Shuffle dataframe rows\n",
    "new_df = normal_distributed_df.sample(frac=1, random_state=42)\n",
    "\n",
    "new_df.head()"
   ]
  },
  {
   "cell_type": "code",
   "execution_count": 14,
   "id": "e5853e7f-9e34-4940-a16c-0c3b04770443",
   "metadata": {},
   "outputs": [
    {
     "name": "stdout",
     "output_type": "stream",
     "text": [
      "Distribution of the Classes in the subsample dataset\n",
      "0    0.5\n",
      "1    0.5\n",
      "Name: lightning, dtype: float64\n"
     ]
    },
    {
     "data": {
      "image/png": "[encoded data removed]",
      "text/plain": [
       "<Figure size 432x288 with 1 Axes>"
      ]
     },
     "metadata": {
      "needs_background": "light"
     },
     "output_type": "display_data"
    }
   ],
   "source": [
    "print('Distribution of the Classes in the subsample dataset')\n",
    "print(new_df['lightning'].value_counts()/len(new_df))\n",
    "colors = [\"#0101DF\", \"#DF0101\"]\n",
    "\n",
    "\n",
    "\n",
    "sns.countplot('lightning', data=new_df, palette=colors)\n",
    "plt.title('Equally Distributed Classes', fontsize=14)\n",
    "plt.show()"
   ]
  },
  {
   "cell_type": "markdown",
   "id": "2970ddf4-d3a3-423c-80b9-49ed7c9f1242",
   "metadata": {},
   "source": [
    "## Findingg Correlation"
   ]
  },
  {
   "cell_type": "code",
   "execution_count": 15,
   "id": "caabd868-782a-4f88-b72d-3fd28337e9bb",
   "metadata": {},
   "outputs": [
    {
     "data": {
      "image/png": "[encoded data removed]",
      "text/plain": [
       "<Figure size 1728x1440 with 4 Axes>"
      ]
     },
     "metadata": {
      "needs_background": "light"
     },
     "output_type": "display_data"
    }
   ],
   "source": [
    "# Make sure we use the subsample in our correlation\n",
    "\n",
    "f, (ax1, ax2) = plt.subplots(2, 1, figsize=(24,20))\n",
    "\n",
    "# Entire DataFrame\n",
    "corr = df.corr()\n",
    "sns.heatmap(corr, cmap='coolwarm_r', annot_kws={'size':20}, ax=ax1)\n",
    "ax1.set_title(\"Imbalanced Correlation Matrix \\n (don't use for reference)\", fontsize=14)\n",
    "\n",
    "\n",
    "sub_sample_corr = new_df.corr()\n",
    "sns.heatmap(sub_sample_corr, cmap='coolwarm_r', annot_kws={'size':20}, ax=ax2)\n",
    "ax2.set_title('SubSample Correlation Matrix \\n (use for reference)', fontsize=14)\n",
    "plt.show()"
   ]
  },
  {
   "cell_type": "code",
   "execution_count": 16,
   "id": "77bb1a30-df21-40d4-a41e-a3f48e54acb9",
   "metadata": {},
   "outputs": [
    {
     "name": "stdout",
     "output_type": "stream",
     "text": [
      "T-SNE took 2.6 s\n",
      "PCA took 0.013 s\n",
      "Truncated SVD took 0.0031 s\n"
     ]
    }
   ],
   "source": [
    "# New_df is from the random undersample data (fewer instances)\n",
    "X = new_df.drop('lightning', axis=1)\n",
    "y = new_df['lightning']\n",
    "\n",
    "\n",
    "# T-SNE Implementation\n",
    "t0 = time.time()\n",
    "X_reduced_tsne = TSNE(n_components=2, random_state=42).fit_transform(X.values)\n",
    "t1 = time.time()\n",
    "print(\"T-SNE took {:.2} s\".format(t1 - t0))\n",
    "\n",
    "# PCA Implementation\n",
    "t0 = time.time()\n",
    "X_reduced_pca = PCA(n_components=2, random_state=42).fit_transform(X.values)\n",
    "t1 = time.time()\n",
    "print(\"PCA took {:.2} s\".format(t1 - t0))\n",
    "\n",
    "# TruncatedSVD\n",
    "t0 = time.time()\n",
    "X_reduced_svd = TruncatedSVD(n_components=2, algorithm='randomized', random_state=42).fit_transform(X.values)\n",
    "t1 = time.time()\n",
    "print(\"Truncated SVD took {:.2} s\".format(t1 - t0))"
   ]
  },
  {
   "cell_type": "code",
   "execution_count": 17,
   "id": "2a095192-1338-4438-86a7-a4780aa22e25",
   "metadata": {},
   "outputs": [
    {
     "data": {
      "image/png": "[encoded data removed]",
      "text/plain": [
       "<Figure size 1728x432 with 3 Axes>"
      ]
     },
     "metadata": {
      "needs_background": "light"
     },
     "output_type": "display_data"
    }
   ],
   "source": [
    "f, (ax1, ax2, ax3) = plt.subplots(1, 3, figsize=(24,6))\n",
    "# labels = ['No Fraud', 'Fraud']\n",
    "f.suptitle('Clusters using Dimensionality Reduction', fontsize=14)\n",
    "\n",
    "\n",
    "blue_patch = mpatches.Patch(color='#0A0AFF', label='No Lightning')\n",
    "red_patch = mpatches.Patch(color='#AF0000', label='Lightning')\n",
    "\n",
    "\n",
    "# t-SNE scatter plot\n",
    "ax1.scatter(X_reduced_tsne[:,0], X_reduced_tsne[:,1], c=(y == 0), cmap='coolwarm', label='No Lightning', linewidths=2)\n",
    "ax1.scatter(X_reduced_tsne[:,0], X_reduced_tsne[:,1], c=(y == 1), cmap='coolwarm', label='Lightning', linewidths=2)\n",
    "ax1.set_title('t-SNE', fontsize=14)\n",
    "\n",
    "ax1.grid(True)\n",
    "\n",
    "ax1.legend(handles=[blue_patch, red_patch])\n",
    "\n",
    "\n",
    "# PCA scatter plot\n",
    "ax2.scatter(X_reduced_pca[:,0], X_reduced_pca[:,1], c=(y == 0), cmap='coolwarm', label='No Lightning', linewidths=2)\n",
    "ax2.scatter(X_reduced_pca[:,0], X_reduced_pca[:,1], c=(y == 1), cmap='coolwarm', label='Lightning', linewidths=2)\n",
    "ax2.set_title('PCA', fontsize=14)\n",
    "\n",
    "ax2.grid(True)\n",
    "\n",
    "ax2.legend(handles=[blue_patch, red_patch])\n",
    "\n",
    "# TruncatedSVD scatter plot\n",
    "ax3.scatter(X_reduced_svd[:,0], X_reduced_svd[:,1], c=(y == 0), cmap='coolwarm', label='No Lightning', linewidths=2)\n",
    "ax3.scatter(X_reduced_svd[:,0], X_reduced_svd[:,1], c=(y == 1), cmap='coolwarm', label='Lightning', linewidths=2)\n",
    "ax3.set_title('Truncated SVD', fontsize=14)\n",
    "\n",
    "ax3.grid(True)\n",
    "\n",
    "ax3.legend(handles=[blue_patch, red_patch])\n",
    "\n",
    "plt.show()\n"
   ]
  },
  {
   "cell_type": "code",
   "execution_count": 18,
   "id": "b22edbf6-b8c0-4af4-aa81-3e86ce12aa50",
   "metadata": {},
   "outputs": [],
   "source": [
    "# Undersampling before cross validating (prone to overfit)\n",
    "X = new_df.drop('lightning', axis=1)\n",
    "y = new_df['lightning']"
   ]
  },
  {
   "cell_type": "code",
   "execution_count": 19,
   "id": "5f3d8177-94cc-48dc-be4c-1b3851ba5da6",
   "metadata": {},
   "outputs": [],
   "source": [
    "# Our data is already scaled we should split our training and test sets\n",
    "from sklearn.model_selection import train_test_split\n",
    "\n",
    "# This is explicitly used for undersampling.\n",
    "X_train, X_test, y_train, y_test = train_test_split(X, y, test_size=0.2, random_state=42)"
   ]
  },
  {
   "cell_type": "code",
   "execution_count": 20,
   "id": "2102679b-f6d7-4687-bf9f-ab682957523f",
   "metadata": {},
   "outputs": [],
   "source": [
    "# Turn the values into an array for feeding the classification algorithms.\n",
    "X_train = X_train.values\n",
    "X_test = X_test.values\n",
    "y_train = y_train.values\n",
    "y_test = y_test.values"
   ]
  },
  {
   "cell_type": "code",
   "execution_count": 21,
   "id": "bafd1955-84f2-460d-a40d-9c07411b7e79",
   "metadata": {},
   "outputs": [],
   "source": [
    "# Let's implement simple classifiers\n",
    "\n",
    "classifiers = {\n",
    "    \"LogisiticRegression\": LogisticRegression(),\n",
    "    \"KNearest\": KNeighborsClassifier(),\n",
    "    \"Support Vector Classifier\": SVC(),\n",
    "    \"DecisionTreeClassifier\": DecisionTreeClassifier()\n",
    "}"
   ]
  },
  {
   "cell_type": "code",
   "execution_count": 22,
   "id": "f442aa2e-85a4-431d-812e-322828885820",
   "metadata": {},
   "outputs": [
    {
     "name": "stdout",
     "output_type": "stream",
     "text": [
      "Classifiers:  LogisticRegression Has a training score of 61.0 % accuracy score\n",
      "Classifiers:  KNeighborsClassifier Has a training score of 64.0 % accuracy score\n",
      "Classifiers:  SVC Has a training score of 60.0 % accuracy score\n",
      "Classifiers:  DecisionTreeClassifier Has a training score of 62.0 % accuracy score\n"
     ]
    }
   ],
   "source": [
    "from sklearn.model_selection import cross_val_score\n",
    "\n",
    "\n",
    "for key, classifier in classifiers.items():\n",
    "    classifier.fit(X_train, y_train)\n",
    "    training_score = cross_val_score(classifier, X_train, y_train, cv=5)\n",
    "    print(\"Classifiers: \", classifier.__class__.__name__, \"Has a training score of\", round(training_score.mean(), 2) * 100, \"% accuracy score\")"
   ]
  },
  {
   "cell_type": "code",
   "execution_count": 23,
   "id": "14c43472-4a61-435c-943a-05351fee7697",
   "metadata": {},
   "outputs": [],
   "source": [
    "# Use GridSearchCV to find the best parameters.\n",
    "from sklearn.model_selection import GridSearchCV\n",
    "\n",
    "\n",
    "# Logistic Regression \n",
    "log_reg_params = {\"penalty\": ['l1', 'l2'], 'C': [0.001, 0.01, 0.1, 1, 10, 100, 1000]}\n",
    "\n",
    "\n",
    "\n",
    "grid_log_reg = GridSearchCV(LogisticRegression(), log_reg_params)\n",
    "grid_log_reg.fit(X_train, y_train)\n",
    "# We automatically get the logistic regression with the best parameters.\n",
    "log_reg = grid_log_reg.best_estimator_\n",
    "\n",
    "knears_params = {\"n_neighbors\": list(range(2,5,1)), 'algorithm': ['auto', 'ball_tree', 'kd_tree', 'brute']}\n",
    "\n",
    "grid_knears = GridSearchCV(KNeighborsClassifier(), knears_params)\n",
    "grid_knears.fit(X_train, y_train)\n",
    "# KNears best estimator\n",
    "knears_neighbors = grid_knears.best_estimator_\n",
    "\n",
    "# Support Vector Classifier\n",
    "svc_params = {'C': [0.5, 0.7, 0.9, 1], 'kernel': ['rbf', 'poly', 'sigmoid', 'linear']}\n",
    "grid_svc = GridSearchCV(SVC(), svc_params)\n",
    "grid_svc.fit(X_train, y_train)\n",
    "\n",
    "# SVC best estimator\n",
    "svc = grid_svc.best_estimator_\n",
    "\n",
    "# DecisionTree Classifier\n",
    "tree_params = {\"criterion\": [\"gini\", \"entropy\"], \"max_depth\": list(range(2,4,1)), \n",
    "              \"min_samples_leaf\": list(range(5,7,1))}\n",
    "grid_tree = GridSearchCV(DecisionTreeClassifier(), tree_params)\n",
    "grid_tree.fit(X_train, y_train)\n",
    "\n",
    "# tree best estimator\n",
    "tree_clf = grid_tree.best_estimator_\n"
   ]
  },
  {
   "cell_type": "code",
   "execution_count": 24,
   "id": "95b5d64c-029e-4f57-bc47-821a8ad4ff5c",
   "metadata": {},
   "outputs": [
    {
     "name": "stdout",
     "output_type": "stream",
     "text": [
      "Logistic Regression Cross Validation Score:  62.62%\n",
      "Knears Neighbors Cross Validation Score 65.24%\n",
      "Support Vector Classifier Cross Validation Score 61.67%\n",
      "DecisionTree Classifier Cross Validation Score 58.81%\n"
     ]
    }
   ],
   "source": [
    "# Overfitting Case\n",
    "\n",
    "log_reg_score = cross_val_score(log_reg, X_train, y_train, cv=5)\n",
    "print('Logistic Regression Cross Validation Score: ', round(log_reg_score.mean() * 100, 2).astype(str) + '%')\n",
    "\n",
    "\n",
    "knears_score = cross_val_score(knears_neighbors, X_train, y_train, cv=5)\n",
    "print('Knears Neighbors Cross Validation Score', round(knears_score.mean() * 100, 2).astype(str) + '%')\n",
    "\n",
    "svc_score = cross_val_score(svc, X_train, y_train, cv=5)\n",
    "print('Support Vector Classifier Cross Validation Score', round(svc_score.mean() * 100, 2).astype(str) + '%')\n",
    "\n",
    "tree_score = cross_val_score(tree_clf, X_train, y_train, cv=5)\n",
    "print('DecisionTree Classifier Cross Validation Score', round(tree_score.mean() * 100, 2).astype(str) + '%')\n"
   ]
  },
  {
   "cell_type": "code",
   "execution_count": 25,
   "id": "de8f7538-f450-4507-b6de-f8977e1797d8",
   "metadata": {},
   "outputs": [
    {
     "name": "stdout",
     "output_type": "stream",
     "text": [
      "Train: [1726 1744 1754 ... 8757 8758 8759] Test: [   0    1    2 ... 1751 1752 1753]\n",
      "Train: [   0    1    2 ... 8757 8758 8759] Test: [1726 1744 1754 ... 3512 3513 3514]\n",
      "Train: [   0    1    2 ... 8757 8758 8759] Test: [3170 3193 3274 ... 5253 5254 5255]\n",
      "Train: [   0    1    2 ... 8757 8758 8759] Test: [5256 5257 5258 ... 7005 7006 7007]\n",
      "Train: [   0    1    2 ... 7005 7006 7007] Test: [7008 7009 7010 ... 8757 8758 8759]\n",
      "NearMiss Label Distribution: Counter({0: 263, 1: 263})\n"
     ]
    }
   ],
   "source": [
    "# We will undersample during cross validating\n",
    "undersample_X = df.drop('lightning', axis=1)\n",
    "undersample_y = df['lightning']\n",
    "\n",
    "for train_index, test_index in sss.split(undersample_X, undersample_y):\n",
    "    print(\"Train:\", train_index, \"Test:\", test_index)\n",
    "    undersample_Xtrain, undersample_Xtest = undersample_X.iloc[train_index], undersample_X.iloc[test_index]\n",
    "    undersample_ytrain, undersample_ytest = undersample_y.iloc[train_index], undersample_y.iloc[test_index]\n",
    "    \n",
    "undersample_Xtrain = undersample_Xtrain.values\n",
    "undersample_Xtest = undersample_Xtest.values\n",
    "undersample_ytrain = undersample_ytrain.values\n",
    "undersample_ytest = undersample_ytest.values \n",
    "\n",
    "undersample_accuracy = []\n",
    "undersample_precision = []\n",
    "undersample_recall = []\n",
    "undersample_f1 = []\n",
    "undersample_auc = []\n",
    "\n",
    "# Implementing NearMiss Technique \n",
    "# Distribution of NearMiss (Just to see how it distributes the labels we won't use these variables)\n",
    "X_nearmiss, y_nearmiss = NearMiss().fit_resample(undersample_X.values, undersample_y.values)\n",
    "print('NearMiss Label Distribution: {}'.format(Counter(y_nearmiss)))\n",
    "# Cross Validating the right way\n",
    "\n",
    "for train, test in sss.split(undersample_Xtrain, undersample_ytrain):\n",
    "    undersample_pipeline = imbalanced_make_pipeline(NearMiss(sampling_strategy='majority'), log_reg) # SMOTE happens during Cross Validation not before..\n",
    "    undersample_model = undersample_pipeline.fit(undersample_Xtrain[train], undersample_ytrain[train])\n",
    "    undersample_prediction = undersample_model.predict(undersample_Xtrain[test])\n",
    "    \n",
    "    undersample_accuracy.append(undersample_pipeline.score(original_Xtrain[test], original_ytrain[test]))\n",
    "    undersample_precision.append(precision_score(original_ytrain[test], undersample_prediction))\n",
    "    undersample_recall.append(recall_score(original_ytrain[test], undersample_prediction))\n",
    "    undersample_f1.append(f1_score(original_ytrain[test], undersample_prediction))\n",
    "    undersample_auc.append(roc_auc_score(original_ytrain[test], undersample_prediction))"
   ]
  },
  {
   "cell_type": "code",
   "execution_count": 26,
   "id": "fb09ec4c-8d02-4be4-b490-112c468fef69",
   "metadata": {},
   "outputs": [],
   "source": [
    "from sklearn.metrics import roc_curve\n",
    "from sklearn.model_selection import cross_val_predict\n",
    "# Create a DataFrame with all the scores and the classifiers names.\n",
    "\n",
    "log_reg_pred = cross_val_predict(log_reg, X_train, y_train, cv=5,\n",
    "                             method=\"decision_function\")\n",
    "\n",
    "knears_pred = cross_val_predict(knears_neighbors, X_train, y_train, cv=5)\n",
    "\n",
    "svc_pred = cross_val_predict(svc, X_train, y_train, cv=5,\n",
    "                             method=\"decision_function\")\n",
    "\n",
    "tree_pred = cross_val_predict(tree_clf, X_train, y_train, cv=5)"
   ]
  },
  {
   "cell_type": "code",
   "execution_count": 27,
   "id": "7b307f65-7ffd-4edc-954f-c39c8f2edf8a",
   "metadata": {},
   "outputs": [
    {
     "name": "stdout",
     "output_type": "stream",
     "text": [
      "Logistic Regression:  0.6568614068614069\n",
      "KNears Neighbors:  0.6422331422331422\n",
      "Support Vector Classifier:  0.636932386932387\n",
      "Decision Tree Classifier:  0.5978023478023478\n"
     ]
    }
   ],
   "source": [
    "from sklearn.metrics import roc_auc_score\n",
    "\n",
    "print('Logistic Regression: ', roc_auc_score(y_train, log_reg_pred))\n",
    "print('KNears Neighbors: ', roc_auc_score(y_train, knears_pred))\n",
    "print('Support Vector Classifier: ', roc_auc_score(y_train, svc_pred))\n",
    "print('Decision Tree Classifier: ', roc_auc_score(y_train, tree_pred))"
   ]
  },
  {
   "cell_type": "code",
   "execution_count": 28,
   "id": "9bd2eb4b-fc86-47af-b7e3-30ec225979f0",
   "metadata": {},
   "outputs": [
    {
     "data": {
      "image/png": "[encoded data removed]",
      "text/plain": [
       "<Figure size 1152x576 with 1 Axes>"
      ]
     },
     "metadata": {
      "needs_background": "light"
     },
     "output_type": "display_data"
    }
   ],
   "source": [
    "log_fpr, log_tpr, log_thresold = roc_curve(y_train, log_reg_pred)\n",
    "knear_fpr, knear_tpr, knear_threshold = roc_curve(y_train, knears_pred)\n",
    "svc_fpr, svc_tpr, svc_threshold = roc_curve(y_train, svc_pred)\n",
    "tree_fpr, tree_tpr, tree_threshold = roc_curve(y_train, tree_pred)\n",
    "\n",
    "\n",
    "def graph_roc_curve_multiple(log_fpr, log_tpr, knear_fpr, knear_tpr, svc_fpr, svc_tpr, tree_fpr, tree_tpr):\n",
    "    plt.figure(figsize=(16,8))\n",
    "    plt.title('ROC Curve \\n Top 4 Classifiers', fontsize=18)\n",
    "    plt.plot(log_fpr, log_tpr, label='Logistic Regression Classifier Score: {:.4f}'.format(roc_auc_score(y_train, log_reg_pred)))\n",
    "    plt.plot(knear_fpr, knear_tpr, label='KNears Neighbors Classifier Score: {:.4f}'.format(roc_auc_score(y_train, knears_pred)))\n",
    "    plt.plot(svc_fpr, svc_tpr, label='Support Vector Classifier Score: {:.4f}'.format(roc_auc_score(y_train, svc_pred)))\n",
    "    plt.plot(tree_fpr, tree_tpr, label='Decision Tree Classifier Score: {:.4f}'.format(roc_auc_score(y_train, tree_pred)))\n",
    "    plt.plot([0, 1], [0, 1], 'k--')\n",
    "    plt.axis([-0.01, 1, 0, 1])\n",
    "    plt.xlabel('False Positive Rate', fontsize=16)\n",
    "    plt.ylabel('True Positive Rate', fontsize=16)\n",
    "    plt.annotate('Minimum ROC Score of 50% \\n (This is the minimum score to get)', xy=(0.5, 0.5), xytext=(0.6, 0.3),\n",
    "                arrowprops=dict(facecolor='#6E726D', shrink=0.05),\n",
    "                )\n",
    "    plt.legend()\n",
    "    \n",
    "graph_roc_curve_multiple(log_fpr, log_tpr, knear_fpr, knear_tpr, svc_fpr, svc_tpr, tree_fpr, tree_tpr)\n",
    "plt.show()"
   ]
  },
  {
   "cell_type": "code",
   "execution_count": 29,
   "id": "17fd89c0-22b8-4b48-b8b0-ad73251008e9",
   "metadata": {},
   "outputs": [
    {
     "data": {
      "image/png": "[encoded data removed]",
      "text/plain": [
       "<Figure size 864x576 with 1 Axes>"
      ]
     },
     "metadata": {
      "needs_background": "light"
     },
     "output_type": "display_data"
    }
   ],
   "source": [
    "def logistic_roc_curve(log_fpr, log_tpr):\n",
    "    plt.figure(figsize=(12,8))\n",
    "    plt.title('Logistic Regression ROC Curve', fontsize=16)\n",
    "    plt.plot(log_fpr, log_tpr, 'b-', linewidth=2)\n",
    "    plt.plot([0, 1], [0, 1], 'r--')\n",
    "    plt.xlabel('False Positive Rate', fontsize=16)\n",
    "    plt.ylabel('True Positive Rate', fontsize=16)\n",
    "    plt.axis([-0.01,1,0,1])\n",
    "    \n",
    "    \n",
    "logistic_roc_curve(log_fpr, log_tpr)\n",
    "plt.show()"
   ]
  },
  {
   "cell_type": "code",
   "execution_count": 30,
   "id": "a20b776d-a93d-4c78-939b-b938cd9d6e54",
   "metadata": {},
   "outputs": [],
   "source": [
    "from sklearn.metrics import precision_recall_curve\n",
    "\n",
    "precision, recall, threshold = precision_recall_curve(y_train, log_reg_pred)\n"
   ]
  },
  {
   "cell_type": "code",
   "execution_count": 31,
   "id": "1ca0b8b6-820e-40e4-98d0-0575c22beb60",
   "metadata": {},
   "outputs": [
    {
     "name": "stdout",
     "output_type": "stream",
     "text": [
      "---------------------------------------------------------------------------------------------------------------------------------------\n",
      "Overfitting: \n",
      "\n",
      "Recall Score: 0.80\n",
      "Precision Score: 0.55\n",
      "F1 Score: 0.65\n",
      "Accuracy Score: 0.60\n",
      "---------------------------------------------------------------------------------------------------------------------------------------\n",
      "---------------------------------------------------------------------------------------------------------------------------------------\n",
      "How it should be:\n",
      "\n",
      "Accuracy Score: 0.44\n",
      "Precision Score: 0.03\n",
      "Recall Score: 0.40\n",
      "F1 Score: 0.05\n",
      "---------------------------------------------------------------------------------------------------------------------------------------\n"
     ]
    }
   ],
   "source": [
    "from sklearn.metrics import recall_score, precision_score, f1_score, accuracy_score\n",
    "y_pred = log_reg.predict(X_train)\n",
    "\n",
    "# Overfitting Case\n",
    "print('---' * 45)\n",
    "print('Overfitting: \\n')\n",
    "print('Recall Score: {:.2f}'.format(recall_score(y_train, y_pred)))\n",
    "print('Precision Score: {:.2f}'.format(precision_score(y_train, y_pred)))\n",
    "print('F1 Score: {:.2f}'.format(f1_score(y_train, y_pred)))\n",
    "print('Accuracy Score: {:.2f}'.format(accuracy_score(y_train, y_pred)))\n",
    "print('---' * 45)\n",
    "\n",
    "# How it should look like\n",
    "print('---' * 45)\n",
    "print('How it should be:\\n')\n",
    "print(\"Accuracy Score: {:.2f}\".format(np.mean(undersample_accuracy)))\n",
    "print(\"Precision Score: {:.2f}\".format(np.mean(undersample_precision)))\n",
    "print(\"Recall Score: {:.2f}\".format(np.mean(undersample_recall)))\n",
    "print(\"F1 Score: {:.2f}\".format(np.mean(undersample_f1)))\n",
    "print('---' * 45)"
   ]
  },
  {
   "cell_type": "code",
   "execution_count": 32,
   "id": "3f4d6168-de88-4f19-a04f-c744463d769d",
   "metadata": {},
   "outputs": [],
   "source": [
    "undersample_y_score = log_reg.decision_function(original_Xtest)"
   ]
  },
  {
   "cell_type": "code",
   "execution_count": 33,
   "id": "75df9b81-b493-49f5-9bc6-c9d41b8af7db",
   "metadata": {},
   "outputs": [
    {
     "name": "stdout",
     "output_type": "stream",
     "text": [
      "Average precision-recall score: 0.14\n"
     ]
    }
   ],
   "source": [
    "from sklearn.metrics import average_precision_score\n",
    "\n",
    "undersample_average_precision = average_precision_score(original_ytest, undersample_y_score)\n",
    "\n",
    "print('Average precision-recall score: {0:0.2f}'.format(\n",
    "      undersample_average_precision))"
   ]
  },
  {
   "cell_type": "code",
   "execution_count": 34,
   "id": "283cc062-e976-4858-9393-89457ed343bc",
   "metadata": {},
   "outputs": [
    {
     "data": {
      "text/plain": [
       "Text(0.5, 1.0, 'UnderSampling Precision-Recall curve: \\n Average Precision-Recall Score =0.14')"
      ]
     },
     "execution_count": 34,
     "metadata": {},
     "output_type": "execute_result"
    },
    {
     "data": {
      "image/png": "[encoded data removed]",
      "text/plain": [
       "<Figure size 864x432 with 1 Axes>"
      ]
     },
     "metadata": {
      "needs_background": "light"
     },
     "output_type": "display_data"
    }
   ],
   "source": [
    "from sklearn.metrics import precision_recall_curve\n",
    "import matplotlib.pyplot as plt\n",
    "\n",
    "fig = plt.figure(figsize=(12,6))\n",
    "\n",
    "precision, recall, _ = precision_recall_curve(original_ytest, undersample_y_score)\n",
    "\n",
    "plt.step(recall, precision, color='#004a93', alpha=0.2,\n",
    "         where='post')\n",
    "plt.fill_between(recall, precision, step='post', alpha=0.2,\n",
    "                 color='#48a6ff')\n",
    "\n",
    "plt.xlabel('Recall')\n",
    "plt.ylabel('Precision')\n",
    "plt.ylim([0.0, 1.05])\n",
    "plt.xlim([0.0, 1.0])\n",
    "plt.title('UnderSampling Precision-Recall curve: \\n Average Precision-Recall Score ={0:0.2f}'.format(\n",
    "          undersample_average_precision), fontsize=16)\n"
   ]
  },
  {
   "cell_type": "code",
   "execution_count": 35,
   "id": "993b2650-1cd4-4487-a432-f0391ab080ba",
   "metadata": {},
   "outputs": [
    {
     "name": "stdout",
     "output_type": "stream",
     "text": [
      "Length of X (train): 7008 | Length of y (train): 7008\n",
      "Length of X (test): 1752 | Length of y (test): 1752\n",
      "---------------------------------------------------------------------------------------------------------------------------------------\n",
      "\n",
      "accuracy: 0.5177921619059547\n",
      "precision: 0.22430621909938714\n",
      "recall: 0.5095238095238095\n",
      "f1: 0.08089976450041901\n",
      "---------------------------------------------------------------------------------------------------------------------------------------\n"
     ]
    }
   ],
   "source": [
    "from imblearn.over_sampling import SMOTE\n",
    "from sklearn.model_selection import train_test_split, RandomizedSearchCV\n",
    "\n",
    "\n",
    "print('Length of X (train): {} | Length of y (train): {}'.format(len(original_Xtrain), len(original_ytrain)))\n",
    "print('Length of X (test): {} | Length of y (test): {}'.format(len(original_Xtest), len(original_ytest)))\n",
    "\n",
    "# List to append the score and then find the average\n",
    "accuracy_lst = []\n",
    "precision_lst = []\n",
    "recall_lst = []\n",
    "f1_lst = []\n",
    "auc_lst = []\n",
    "\n",
    "# Classifier with optimal parameters\n",
    "# log_reg_sm = grid_log_reg.best_estimator_\n",
    "log_reg_sm = LogisticRegression()\n",
    "\n",
    "\n",
    "\n",
    "\n",
    "rand_log_reg = RandomizedSearchCV(LogisticRegression(), log_reg_params, n_iter=4)\n",
    "\n",
    "\n",
    "# Implementing SMOTE Technique \n",
    "# Cross Validating the right way\n",
    "# Parameters\n",
    "log_reg_params = {\"penalty\": ['l1', 'l2'], 'C': [0.001, 0.01, 0.1, 1, 10, 100, 1000]}\n",
    "for train, test in sss.split(original_Xtrain, original_ytrain):\n",
    "    pipeline = imbalanced_make_pipeline(SMOTE(sampling_strategy='minority'), rand_log_reg) # SMOTE happens during Cross Validation not before..\n",
    "    model = pipeline.fit(original_Xtrain[train], original_ytrain[train])\n",
    "    best_est = rand_log_reg.best_estimator_\n",
    "    prediction = best_est.predict(original_Xtrain[test])\n",
    "    \n",
    "    accuracy_lst.append(pipeline.score(original_Xtrain[test], original_ytrain[test]))\n",
    "    precision_lst.append(precision_score(original_ytrain[test], prediction))\n",
    "    recall_lst.append(recall_score(original_ytrain[test], prediction))\n",
    "    f1_lst.append(f1_score(original_ytrain[test], prediction))\n",
    "    auc_lst.append(roc_auc_score(original_ytrain[test], prediction))\n",
    "    \n",
    "print('---' * 45)\n",
    "print('')\n",
    "print(\"accuracy: {}\".format(np.mean(accuracy_lst)))\n",
    "print(\"precision: {}\".format(np.mean(precision_lst)))\n",
    "print(\"recall: {}\".format(np.mean(recall_lst)))\n",
    "print(\"f1: {}\".format(np.mean(f1_lst)))\n",
    "print('---' * 45)"
   ]
  },
  {
   "cell_type": "code",
   "execution_count": 36,
   "id": "036e1447-7cbb-4a95-ac69-890fc6157684",
   "metadata": {},
   "outputs": [
    {
     "name": "stdout",
     "output_type": "stream",
     "text": [
      "              precision    recall  f1-score   support\n",
      "\n",
      "No Lightning       0.97      0.69      0.81      1699\n",
      "   Lightning       0.04      0.42      0.07        53\n",
      "\n",
      "    accuracy                           0.68      1752\n",
      "   macro avg       0.51      0.55      0.44      1752\n",
      "weighted avg       0.95      0.68      0.79      1752\n",
      "\n"
     ]
    }
   ],
   "source": [
    "labels = ['No Lightning', 'Lightning']\n",
    "smote_prediction = best_est.predict(original_Xtest)\n",
    "print(classification_report(original_ytest, smote_prediction, target_names=labels))"
   ]
  },
  {
   "cell_type": "code",
   "execution_count": 37,
   "id": "9f7eb5bb-46e8-44c2-b781-f68cba2c3a1f",
   "metadata": {},
   "outputs": [],
   "source": [
    "y_score = best_est.decision_function(original_Xtest)"
   ]
  },
  {
   "cell_type": "code",
   "execution_count": 38,
   "id": "772d9a7c-a4b7-4d3b-acda-8da3b3669104",
   "metadata": {},
   "outputs": [
    {
     "name": "stdout",
     "output_type": "stream",
     "text": [
      "Average precision-recall score: 0.05\n"
     ]
    }
   ],
   "source": [
    "average_precision = average_precision_score(original_ytest, y_score)\n",
    "\n",
    "print('Average precision-recall score: {0:0.2f}'.format(\n",
    "      average_precision))"
   ]
  },
  {
   "cell_type": "code",
   "execution_count": 39,
   "id": "7f97865f-c439-482e-8018-274708a4f9df",
   "metadata": {},
   "outputs": [
    {
     "data": {
      "text/plain": [
       "Text(0.5, 1.0, 'OverSampling Precision-Recall curve: \\n Average Precision-Recall Score =0.05')"
      ]
     },
     "execution_count": 39,
     "metadata": {},
     "output_type": "execute_result"
    },
    {
     "data": {
      "image/png": "[encoded data removed]",
      "text/plain": [
       "<Figure size 864x432 with 1 Axes>"
      ]
     },
     "metadata": {
      "needs_background": "light"
     },
     "output_type": "display_data"
    }
   ],
   "source": [
    "fig = plt.figure(figsize=(12,6))\n",
    "\n",
    "precision, recall, _ = precision_recall_curve(original_ytest, y_score)\n",
    "\n",
    "plt.step(recall, precision, color='r', alpha=0.2,\n",
    "         where='post')\n",
    "plt.fill_between(recall, precision, step='post', alpha=0.2,\n",
    "                 color='#F59B00')\n",
    "\n",
    "plt.xlabel('Recall')\n",
    "plt.ylabel('Precision')\n",
    "plt.ylim([0.0, 1.05])\n",
    "plt.xlim([0.0, 1.0])\n",
    "plt.title('OverSampling Precision-Recall curve: \\n Average Precision-Recall Score ={0:0.2f}'.format(\n",
    "          average_precision), fontsize=16)"
   ]
  },
  {
   "cell_type": "code",
   "execution_count": 40,
   "id": "d42880c6-f565-460e-80a7-a033415adc77",
   "metadata": {},
   "outputs": [],
   "source": [
    "# # SMOTE Technique (OverSampling) After splitting and Cross Validating\n",
    "sm = SMOTE(sampling_strategy='minority', random_state=42)\n",
    "# # Xsm_train, ysm_train = sm.fit_sample(X_train, y_train)\n",
    "\n",
    "\n",
    "# # This will be the data were we are going to \n",
    "Xsm_train, ysm_train = sm.fit_resample(original_Xtrain, original_ytrain)"
   ]
  },
  {
   "cell_type": "code",
   "execution_count": 41,
   "id": "9e5fc65f-f747-40fe-b063-8f7d5f69c39f",
   "metadata": {},
   "outputs": [
    {
     "name": "stdout",
     "output_type": "stream",
     "text": [
      "Fitting oversample data took :0.3475785255432129 sec\n"
     ]
    }
   ],
   "source": [
    "# We Improve the score by 2% points approximately \n",
    "# Implement GridSearchCV and the other models.\n",
    "\n",
    "# Logistic Regression\n",
    "t0 = time.time()\n",
    "log_reg_sm = grid_log_reg.best_estimator_\n",
    "log_reg_sm.fit(Xsm_train, ysm_train)\n",
    "t1 = time.time()\n",
    "print(\"Fitting oversample data took :{} sec\".format(t1 - t0))"
   ]
  },
  {
   "cell_type": "code",
   "execution_count": 42,
   "id": "a4192ebc-ff65-4f50-b3ed-7ec1f2b49a66",
   "metadata": {},
   "outputs": [
    {
     "data": {
      "text/plain": [
       "[Text(0, 0.5, ''), Text(0, 1.5, '')]"
      ]
     },
     "execution_count": 42,
     "metadata": {},
     "output_type": "execute_result"
    },
    {
     "data": {
      "image/png": "[encoded data removed]",
      "text/plain": [
       "<Figure size 1584x864 with 8 Axes>"
      ]
     },
     "metadata": {
      "needs_background": "light"
     },
     "output_type": "display_data"
    }
   ],
   "source": [
    "from sklearn.metrics import confusion_matrix\n",
    "\n",
    "# Logistic Regression fitted using SMOTE technique\n",
    "y_pred_log_reg = log_reg_sm.predict(X_test)\n",
    "\n",
    "# Other models fitted with UnderSampling\n",
    "y_pred_knear = knears_neighbors.predict(X_test)\n",
    "y_pred_svc = svc.predict(X_test)\n",
    "y_pred_tree = tree_clf.predict(X_test)\n",
    "\n",
    "\n",
    "log_reg_cf = confusion_matrix(y_test, y_pred_log_reg)\n",
    "kneighbors_cf = confusion_matrix(y_test, y_pred_knear)\n",
    "svc_cf = confusion_matrix(y_test, y_pred_svc)\n",
    "tree_cf = confusion_matrix(y_test, y_pred_tree)\n",
    "\n",
    "fig, ax = plt.subplots(2, 2,figsize=(22,12))\n",
    "\n",
    "\n",
    "sns.heatmap(log_reg_cf, ax=ax[0][0], annot=True, cmap=plt.cm.copper)\n",
    "ax[0, 0].set_title(\"Logistic Regression \\n Confusion Matrix\", fontsize=14)\n",
    "ax[0, 0].set_xticklabels(['', ''], fontsize=14, rotation=90)\n",
    "ax[0, 0].set_yticklabels(['', ''], fontsize=14, rotation=360)\n",
    "\n",
    "sns.heatmap(kneighbors_cf, ax=ax[0][1], annot=True, cmap=plt.cm.copper)\n",
    "ax[0][1].set_title(\"KNearsNeighbors \\n Confusion Matrix\", fontsize=14)\n",
    "ax[0][1].set_xticklabels(['', ''], fontsize=14, rotation=90)\n",
    "ax[0][1].set_yticklabels(['', ''], fontsize=14, rotation=360)\n",
    "\n",
    "sns.heatmap(svc_cf, ax=ax[1][0], annot=True, cmap=plt.cm.copper)\n",
    "ax[1][0].set_title(\"Suppor Vector Classifier \\n Confusion Matrix\", fontsize=14)\n",
    "ax[1][0].set_xticklabels(['', ''], fontsize=14, rotation=90)\n",
    "ax[1][0].set_yticklabels(['', ''], fontsize=14, rotation=360)\n",
    "\n",
    "sns.heatmap(tree_cf, ax=ax[1][1], annot=True, cmap=plt.cm.copper)\n",
    "ax[1][1].set_title(\"DecisionTree Classifier \\n Confusion Matrix\", fontsize=14)\n",
    "ax[1][1].set_xticklabels(['', ''], fontsize=14, rotation=90)\n",
    "ax[1][1].set_yticklabels(['', ''], fontsize=14, rotation=360)\n"
   ]
  },
  {
   "cell_type": "code",
   "execution_count": 43,
   "id": "7e9b4bb7-117f-4a9a-8399-6b822d2008a8",
   "metadata": {},
   "outputs": [
    {
     "name": "stdout",
     "output_type": "stream",
     "text": [
      "Logistic Regression:\n",
      "              precision    recall  f1-score   support\n",
      "\n",
      "           0       0.46      0.71      0.56        41\n",
      "           1       0.72      0.48      0.57        65\n",
      "\n",
      "    accuracy                           0.57       106\n",
      "   macro avg       0.59      0.59      0.57       106\n",
      "weighted avg       0.62      0.57      0.57       106\n",
      "\n",
      "KNears Neighbors:\n",
      "              precision    recall  f1-score   support\n",
      "\n",
      "           0       0.60      0.88      0.71        41\n",
      "           1       0.89      0.63      0.74        65\n",
      "\n",
      "    accuracy                           0.73       106\n",
      "   macro avg       0.75      0.75      0.73       106\n",
      "weighted avg       0.78      0.73      0.73       106\n",
      "\n",
      "Support Vector Classifier:\n",
      "              precision    recall  f1-score   support\n",
      "\n",
      "           0       0.55      0.66      0.60        41\n",
      "           1       0.75      0.66      0.70        65\n",
      "\n",
      "    accuracy                           0.66       106\n",
      "   macro avg       0.65      0.66      0.65       106\n",
      "weighted avg       0.68      0.66      0.66       106\n",
      "\n",
      "Support Vector Classifier:\n",
      "              precision    recall  f1-score   support\n",
      "\n",
      "           0       0.50      0.54      0.52        41\n",
      "           1       0.69      0.66      0.68        65\n",
      "\n",
      "    accuracy                           0.61       106\n",
      "   macro avg       0.60      0.60      0.60       106\n",
      "weighted avg       0.62      0.61      0.62       106\n",
      "\n"
     ]
    }
   ],
   "source": [
    "from sklearn.metrics import classification_report\n",
    "\n",
    "\n",
    "print('Logistic Regression:')\n",
    "print(classification_report(y_test, y_pred_log_reg))\n",
    "\n",
    "print('KNears Neighbors:')\n",
    "print(classification_report(y_test, y_pred_knear))\n",
    "\n",
    "print('Support Vector Classifier:')\n",
    "print(classification_report(y_test, y_pred_svc))\n",
    "\n",
    "print('Support Vector Classifier:')\n",
    "print(classification_report(y_test, y_pred_tree))"
   ]
  },
  {
   "cell_type": "code",
   "execution_count": 44,
   "id": "72cbd6a2-9abf-4fd1-b898-13e9f4719738",
   "metadata": {},
   "outputs": [
    {
     "data": {
      "text/html": [
       "<div>\n",
       "<style scoped>\n",
       "    .dataframe tbody tr th:only-of-type {\n",
       "        vertical-align: middle;\n",
       "    }\n",
       "\n",
       "    .dataframe tbody tr th {\n",
       "        vertical-align: top;\n",
       "    }\n",
       "\n",
       "    .dataframe thead th {\n",
       "        text-align: right;\n",
       "    }\n",
       "</style>\n",
       "<table border=\"1\" class=\"dataframe\">\n",
       "  <thead>\n",
       "    <tr style=\"text-align: right;\">\n",
       "      <th></th>\n",
       "      <th>Technique</th>\n",
       "      <th>Score</th>\n",
       "    </tr>\n",
       "  </thead>\n",
       "  <tbody>\n",
       "    <tr>\n",
       "      <th>0</th>\n",
       "      <td>Random UnderSampling</td>\n",
       "      <td>0.566038</td>\n",
       "    </tr>\n",
       "    <tr>\n",
       "      <th>1</th>\n",
       "      <td>Oversampling (SMOTE)</td>\n",
       "      <td>0.684361</td>\n",
       "    </tr>\n",
       "  </tbody>\n",
       "</table>\n",
       "</div>"
      ],
      "text/plain": [
       "              Technique     Score\n",
       "0  Random UnderSampling  0.566038\n",
       "1  Oversampling (SMOTE)  0.684361"
      ]
     },
     "execution_count": 44,
     "metadata": {},
     "output_type": "execute_result"
    }
   ],
   "source": [
    "# Final Score in the test set of logistic regression\n",
    "from sklearn.metrics import accuracy_score\n",
    "\n",
    "# Logistic Regression with Under-Sampling\n",
    "y_pred = log_reg.predict(X_test)\n",
    "undersample_score = accuracy_score(y_test, y_pred)\n",
    "\n",
    "\n",
    "\n",
    "# Logistic Regression with SMOTE Technique (Better accuracy with SMOTE t)\n",
    "y_pred_sm = best_est.predict(original_Xtest)\n",
    "oversample_score = accuracy_score(original_ytest, y_pred_sm)\n",
    "\n",
    "\n",
    "d = {'Technique': ['Random UnderSampling', 'Oversampling (SMOTE)'], 'Score': [undersample_score, oversample_score]}\n",
    "final_df = pd.DataFrame(data=d)\n",
    "\n",
    "# Move column\n",
    "score = final_df['Score']\n",
    "final_df.drop('Score', axis=1, inplace=True)\n",
    "final_df.insert(1, 'Score', score)\n",
    "\n",
    "# Note how high is accuracy score it can be misleading! \n",
    "final_df\n"
   ]
  },
  {
   "cell_type": "code",
   "execution_count": 45,
   "id": "591f761f-973e-4899-8254-37c52ff35cb6",
   "metadata": {},
   "outputs": [],
   "source": [
    "# import keras\n",
    "# from keras import backend as K\n",
    "# from keras.models import Sequential\n",
    "# from keras.layers import Activation\n",
    "# from keras.layers.core import Dense\n",
    "# from tensorflow.keras.optimizers import Adam\n",
    "# from keras.metrics import categorical_crossentropy\n",
    "\n",
    "# n_inputs = X_train.shape[1]\n",
    "\n",
    "# undersample_model = Sequential([\n",
    "#     Dense(n_inputs, input_shape=(n_inputs, ), activation='relu'),\n",
    "#     Dense(32, activation='relu'),\n",
    "#     Dense(2, activation='softmax')\n",
    "# ])"
   ]
  },
  {
   "cell_type": "code",
   "execution_count": 48,
   "id": "693897e8-74e2-46b3-9b3c-130e4b82157c",
   "metadata": {},
   "outputs": [],
   "source": [
    "#undersample_model.summary()"
   ]
  },
  {
   "cell_type": "code",
   "execution_count": 49,
   "id": "5cad8a4d-7583-445e-be36-8cccd0193ed6",
   "metadata": {},
   "outputs": [],
   "source": [
    "#undersample_model.compile(Adam(lr=0.001), loss='sparse_categorical_crossentropy', metrics=['accuracy'])"
   ]
  },
  {
   "cell_type": "code",
   "execution_count": 50,
   "id": "1014deeb-c62f-4973-aab4-4fbdf0f06ef3",
   "metadata": {},
   "outputs": [],
   "source": [
    "#undersample_model.fit(X_train, y_train, validation_split=0.2, batch_size=25, epochs=100, shuffle=True, verbose=2)"
   ]
  },
  {
   "cell_type": "code",
   "execution_count": 51,
   "id": "9f402727-930b-4af9-bc33-dd7e96984f1f",
   "metadata": {},
   "outputs": [],
   "source": [
    "#undersample_predictions = undersample_model.predict(original_Xtest, batch_size=200, verbose=0)"
   ]
  },
  {
   "cell_type": "code",
   "execution_count": 52,
   "id": "88c989fe-66cf-4072-be89-a7f5e670ea94",
   "metadata": {},
   "outputs": [],
   "source": [
    "#undersample_lightning_predictions = undersample_model.predict(original_Xtest, batch_size=200, verbose=0)\n"
   ]
  },
  {
   "cell_type": "code",
   "execution_count": 53,
   "id": "21a7b7b7-b448-4487-be1e-7f3106f3c894",
   "metadata": {},
   "outputs": [],
   "source": [
    "# n_inputs = Xsm_train.shape[1]\n",
    "\n",
    "# oversample_model = Sequential([\n",
    "#     Dense(n_inputs, input_shape=(n_inputs, ), activation='relu'),\n",
    "#     Dense(32, activation='relu'),\n",
    "#     Dense(2, activation='softmax')\n",
    "# ])"
   ]
  },
  {
   "cell_type": "code",
   "execution_count": 54,
   "id": "80071628-dba6-43b3-b540-e2ca0def1c17",
   "metadata": {},
   "outputs": [],
   "source": [
    "#oversample_model.compile(Adam(lr=0.001), loss='sparse_categorical_crossentropy', metrics=['accuracy'])"
   ]
  },
  {
   "cell_type": "code",
   "execution_count": 55,
   "id": "e8866ca8-4070-4849-852a-547b8bcbd0b4",
   "metadata": {},
   "outputs": [],
   "source": [
    "#oversample_model.fit(Xsm_train, ysm_train, validation_split=0.2, batch_size=300, epochs=200, shuffle=True, verbose=2)"
   ]
  },
  {
   "cell_type": "code",
   "execution_count": 56,
   "id": "3bbf9a29-9333-4be8-8a06-e430e7f8f56a",
   "metadata": {},
   "outputs": [],
   "source": [
    "#oversample_lightning_predictions = oversample_model.predict(original_Xtest, batch_size=200, verbose=0)"
   ]
  },
  {
   "cell_type": "code",
   "execution_count": 57,
   "id": "e469f5a4-4dd9-47fa-be10-f03fd1556b11",
   "metadata": {},
   "outputs": [],
   "source": [
    "#oversample_model.save(\"name.h5\")"
   ]
  },
  {
   "cell_type": "markdown",
   "id": "ff501da5-1a03-4fa4-b75f-c027ab771ae7",
   "metadata": {},
   "source": [
    "## Testing"
   ]
  },
  {
   "cell_type": "markdown",
   "id": "b0214c79-c8fc-4235-856a-955e43aa29ac",
   "metadata": {},
   "source": [
    "Testing on Idukki district of Kerala, India"
   ]
  },
  {
   "cell_type": "code",
   "execution_count": 58,
   "id": "12e044be-775c-468a-b249-451867345f85",
   "metadata": {
    "tags": []
   },
   "outputs": [
    {
     "data": {
      "text/plain": [
       "(8760, 12)"
      ]
     },
     "execution_count": 58,
     "metadata": {},
     "output_type": "execute_result"
    }
   ],
   "source": [
    "test=pd.read_csv('test.csv')\n",
    "X_test = test.drop('lightning', axis=1)\n",
    "y_test = test['lightning']\n",
    "X_test.shape"
   ]
  },
  {
   "cell_type": "code",
   "execution_count": 59,
   "id": "f923754d-c435-4708-a147-46910d16ad7d",
   "metadata": {},
   "outputs": [
    {
     "data": {
      "text/html": [
       "<div>\n",
       "<style scoped>\n",
       "    .dataframe tbody tr th:only-of-type {\n",
       "        vertical-align: middle;\n",
       "    }\n",
       "\n",
       "    .dataframe tbody tr th {\n",
       "        vertical-align: top;\n",
       "    }\n",
       "\n",
       "    .dataframe thead th {\n",
       "        text-align: right;\n",
       "    }\n",
       "</style>\n",
       "<table border=\"1\" class=\"dataframe\">\n",
       "  <thead>\n",
       "    <tr style=\"text-align: right;\">\n",
       "      <th></th>\n",
       "      <th>Unnamed: 0</th>\n",
       "      <th>sc_RH2M</th>\n",
       "      <th>sc_QV2M</th>\n",
       "      <th>sc_PRECTOTCORR</th>\n",
       "      <th>sc_T2M</th>\n",
       "      <th>sc_T2MDEW</th>\n",
       "      <th>sc_T2MWET</th>\n",
       "      <th>sc_PS</th>\n",
       "      <th>sc_WS10M</th>\n",
       "      <th>sc_WD10M</th>\n",
       "      <th>sc_WS50M</th>\n",
       "      <th>sc_WD50M</th>\n",
       "    </tr>\n",
       "  </thead>\n",
       "  <tbody>\n",
       "    <tr>\n",
       "      <th>0</th>\n",
       "      <td>0</td>\n",
       "      <td>0.073894</td>\n",
       "      <td>-0.750853</td>\n",
       "      <td>-0.071429</td>\n",
       "      <td>-0.693237</td>\n",
       "      <td>-0.745161</td>\n",
       "      <td>-1.144681</td>\n",
       "      <td>0.851852</td>\n",
       "      <td>0.428571</td>\n",
       "      <td>-1.019542</td>\n",
       "      <td>0.541494</td>\n",
       "      <td>-0.980535</td>\n",
       "    </tr>\n",
       "    <tr>\n",
       "      <th>1</th>\n",
       "      <td>1</td>\n",
       "      <td>0.071458</td>\n",
       "      <td>-0.832765</td>\n",
       "      <td>-0.071429</td>\n",
       "      <td>-0.763285</td>\n",
       "      <td>-0.835484</td>\n",
       "      <td>-1.268085</td>\n",
       "      <td>0.629630</td>\n",
       "      <td>0.468254</td>\n",
       "      <td>-1.035702</td>\n",
       "      <td>0.578838</td>\n",
       "      <td>-0.994553</td>\n",
       "    </tr>\n",
       "    <tr>\n",
       "      <th>2</th>\n",
       "      <td>2</td>\n",
       "      <td>0.058465</td>\n",
       "      <td>-0.897611</td>\n",
       "      <td>-0.071429</td>\n",
       "      <td>-0.801932</td>\n",
       "      <td>-0.906452</td>\n",
       "      <td>-1.348936</td>\n",
       "      <td>0.629630</td>\n",
       "      <td>0.484127</td>\n",
       "      <td>-1.045492</td>\n",
       "      <td>0.591286</td>\n",
       "      <td>-1.003492</td>\n",
       "    </tr>\n",
       "    <tr>\n",
       "      <th>3</th>\n",
       "      <td>3</td>\n",
       "      <td>0.068616</td>\n",
       "      <td>-0.938567</td>\n",
       "      <td>-0.071429</td>\n",
       "      <td>-0.835749</td>\n",
       "      <td>-0.932258</td>\n",
       "      <td>-1.395745</td>\n",
       "      <td>0.703704</td>\n",
       "      <td>0.444444</td>\n",
       "      <td>-1.047545</td>\n",
       "      <td>0.541494</td>\n",
       "      <td>-1.005879</td>\n",
       "    </tr>\n",
       "    <tr>\n",
       "      <th>4</th>\n",
       "      <td>4</td>\n",
       "      <td>0.084044</td>\n",
       "      <td>-0.938567</td>\n",
       "      <td>-0.071429</td>\n",
       "      <td>-0.859903</td>\n",
       "      <td>-0.948387</td>\n",
       "      <td>-1.425532</td>\n",
       "      <td>0.888889</td>\n",
       "      <td>0.468254</td>\n",
       "      <td>-1.035702</td>\n",
       "      <td>0.562241</td>\n",
       "      <td>-0.997041</td>\n",
       "    </tr>\n",
       "  </tbody>\n",
       "</table>\n",
       "</div>"
      ],
      "text/plain": [
       "   Unnamed: 0   sc_RH2M   sc_QV2M  sc_PRECTOTCORR    sc_T2M  sc_T2MDEW  \\\n",
       "0           0  0.073894 -0.750853       -0.071429 -0.693237  -0.745161   \n",
       "1           1  0.071458 -0.832765       -0.071429 -0.763285  -0.835484   \n",
       "2           2  0.058465 -0.897611       -0.071429 -0.801932  -0.906452   \n",
       "3           3  0.068616 -0.938567       -0.071429 -0.835749  -0.932258   \n",
       "4           4  0.084044 -0.938567       -0.071429 -0.859903  -0.948387   \n",
       "\n",
       "   sc_T2MWET     sc_PS  sc_WS10M  sc_WD10M  sc_WS50M  sc_WD50M  \n",
       "0  -1.144681  0.851852  0.428571 -1.019542  0.541494 -0.980535  \n",
       "1  -1.268085  0.629630  0.468254 -1.035702  0.578838 -0.994553  \n",
       "2  -1.348936  0.629630  0.484127 -1.045492  0.591286 -1.003492  \n",
       "3  -1.395745  0.703704  0.444444 -1.047545  0.541494 -1.005879  \n",
       "4  -1.425532  0.888889  0.468254 -1.035702  0.562241 -0.997041  "
      ]
     },
     "execution_count": 59,
     "metadata": {},
     "output_type": "execute_result"
    }
   ],
   "source": [
    "X_test.head()"
   ]
  },
  {
   "cell_type": "code",
   "execution_count": 60,
   "id": "d8744958-7acf-4f57-bcc2-a7cbcb36c5ca",
   "metadata": {},
   "outputs": [],
   "source": [
    "del X_test[X_test.columns[0]]"
   ]
  },
  {
   "cell_type": "code",
   "execution_count": 61,
   "id": "0a42f4c3-a08e-4e35-b19f-731e5914071e",
   "metadata": {},
   "outputs": [
    {
     "data": {
      "text/plain": [
       "(8760,)"
      ]
     },
     "execution_count": 61,
     "metadata": {},
     "output_type": "execute_result"
    }
   ],
   "source": [
    "y_test.shape"
   ]
  },
  {
   "cell_type": "code",
   "execution_count": 62,
   "id": "8d54e6e7-7572-498e-a9db-b191de4d5ea1",
   "metadata": {},
   "outputs": [],
   "source": [
    "import pickle\n",
    "with open('logreg_pkl', 'wb') as files:\n",
    "    pickle.dump(log_reg, files)\n"
   ]
  },
  {
   "cell_type": "code",
   "execution_count": 63,
   "id": "ad408e02-e1e6-4324-90eb-75c0318a3f9b",
   "metadata": {},
   "outputs": [],
   "source": [
    "with open('logreg_pkl' , 'rb') as f:\n",
    "    lr = pickle.load(f)"
   ]
  },
  {
   "cell_type": "code",
   "execution_count": 64,
   "id": "421dd578-426e-4b4e-a7c9-db5ea1c343df",
   "metadata": {
    "tags": []
   },
   "outputs": [
    {
     "data": {
      "text/html": [
       "<div>\n",
       "<style scoped>\n",
       "    .dataframe tbody tr th:only-of-type {\n",
       "        vertical-align: middle;\n",
       "    }\n",
       "\n",
       "    .dataframe tbody tr th {\n",
       "        vertical-align: top;\n",
       "    }\n",
       "\n",
       "    .dataframe thead th {\n",
       "        text-align: right;\n",
       "    }\n",
       "</style>\n",
       "<table border=\"1\" class=\"dataframe\">\n",
       "  <thead>\n",
       "    <tr style=\"text-align: right;\">\n",
       "      <th>logistic_regression</th>\n",
       "      <th>0</th>\n",
       "      <th>1</th>\n",
       "    </tr>\n",
       "    <tr>\n",
       "      <th>lightning</th>\n",
       "      <th></th>\n",
       "      <th></th>\n",
       "    </tr>\n",
       "  </thead>\n",
       "  <tbody>\n",
       "    <tr>\n",
       "      <th>0</th>\n",
       "      <td>5529</td>\n",
       "      <td>3124</td>\n",
       "    </tr>\n",
       "    <tr>\n",
       "      <th>1</th>\n",
       "      <td>32</td>\n",
       "      <td>75</td>\n",
       "    </tr>\n",
       "  </tbody>\n",
       "</table>\n",
       "</div>"
      ],
      "text/plain": [
       "logistic_regression     0     1\n",
       "lightning                      \n",
       "0                    5529  3124\n",
       "1                      32    75"
      ]
     },
     "execution_count": 64,
     "metadata": {},
     "output_type": "execute_result"
    }
   ],
   "source": [
    "a=lr.predict(X_test) \n",
    "df_res = pd.DataFrame(a, columns = ['logistic_regression'])\n",
    "final=pd.merge(df_res,y_test,how='outer',left_index=True,right_index=True)\n",
    "pd.crosstab(final.lightning, final.logistic_regression)"
   ]
  },
  {
   "cell_type": "code",
   "execution_count": 65,
   "id": "0d7f742a-2ac4-4ae5-aa01-5f60818b5963",
   "metadata": {},
   "outputs": [],
   "source": [
    "with open('knn_pkl', 'wb') as files:\n",
    "    pickle.dump(knears_neighbors, files)\n",
    "with open('knn_pkl' , 'rb') as f:\n",
    "    knn = pickle.load(f)\n"
   ]
  },
  {
   "cell_type": "code",
   "execution_count": 66,
   "id": "a0e8dd00-cbe0-46e7-b1d3-bc79a3e0efa3",
   "metadata": {},
   "outputs": [
    {
     "data": {
      "text/html": [
       "<div>\n",
       "<style scoped>\n",
       "    .dataframe tbody tr th:only-of-type {\n",
       "        vertical-align: middle;\n",
       "    }\n",
       "\n",
       "    .dataframe tbody tr th {\n",
       "        vertical-align: top;\n",
       "    }\n",
       "\n",
       "    .dataframe thead th {\n",
       "        text-align: right;\n",
       "    }\n",
       "</style>\n",
       "<table border=\"1\" class=\"dataframe\">\n",
       "  <thead>\n",
       "    <tr style=\"text-align: right;\">\n",
       "      <th>K_NN</th>\n",
       "      <th>0</th>\n",
       "      <th>1</th>\n",
       "    </tr>\n",
       "    <tr>\n",
       "      <th>lightning</th>\n",
       "      <th></th>\n",
       "      <th></th>\n",
       "    </tr>\n",
       "  </thead>\n",
       "  <tbody>\n",
       "    <tr>\n",
       "      <th>0</th>\n",
       "      <td>6808</td>\n",
       "      <td>1845</td>\n",
       "    </tr>\n",
       "    <tr>\n",
       "      <th>1</th>\n",
       "      <td>75</td>\n",
       "      <td>32</td>\n",
       "    </tr>\n",
       "  </tbody>\n",
       "</table>\n",
       "</div>"
      ],
      "text/plain": [
       "K_NN          0     1\n",
       "lightning            \n",
       "0          6808  1845\n",
       "1            75    32"
      ]
     },
     "execution_count": 66,
     "metadata": {},
     "output_type": "execute_result"
    }
   ],
   "source": [
    "b=knn.predict(X_test) \n",
    "df_res2 = pd.DataFrame(b, columns = ['K_NN'])\n",
    "final2=pd.merge(df_res2,y_test,how='outer',left_index=True,right_index=True)\n",
    "pd.crosstab(final2.lightning, final2.K_NN)"
   ]
  },
  {
   "cell_type": "code",
   "execution_count": 67,
   "id": "00286037-802a-4e41-b88d-0fb287ec77c9",
   "metadata": {},
   "outputs": [],
   "source": [
    "with open('svc_pkl', 'wb') as files:\n",
    "    pickle.dump(svc, files)\n",
    "with open('svc_pkl' , 'rb') as f:\n",
    "    sv_c = pickle.load(f)"
   ]
  },
  {
   "cell_type": "code",
   "execution_count": 68,
   "id": "7637d8f9-6c89-4ea1-9aae-d1cabe307668",
   "metadata": {},
   "outputs": [
    {
     "data": {
      "text/html": [
       "<div>\n",
       "<style scoped>\n",
       "    .dataframe tbody tr th:only-of-type {\n",
       "        vertical-align: middle;\n",
       "    }\n",
       "\n",
       "    .dataframe tbody tr th {\n",
       "        vertical-align: top;\n",
       "    }\n",
       "\n",
       "    .dataframe thead th {\n",
       "        text-align: right;\n",
       "    }\n",
       "</style>\n",
       "<table border=\"1\" class=\"dataframe\">\n",
       "  <thead>\n",
       "    <tr style=\"text-align: right;\">\n",
       "      <th>SVM</th>\n",
       "      <th>0</th>\n",
       "      <th>1</th>\n",
       "    </tr>\n",
       "    <tr>\n",
       "      <th>lightning</th>\n",
       "      <th></th>\n",
       "      <th></th>\n",
       "    </tr>\n",
       "  </thead>\n",
       "  <tbody>\n",
       "    <tr>\n",
       "      <th>0</th>\n",
       "      <td>5220</td>\n",
       "      <td>3433</td>\n",
       "    </tr>\n",
       "    <tr>\n",
       "      <th>1</th>\n",
       "      <td>16</td>\n",
       "      <td>91</td>\n",
       "    </tr>\n",
       "  </tbody>\n",
       "</table>\n",
       "</div>"
      ],
      "text/plain": [
       "SVM           0     1\n",
       "lightning            \n",
       "0          5220  3433\n",
       "1            16    91"
      ]
     },
     "execution_count": 68,
     "metadata": {},
     "output_type": "execute_result"
    }
   ],
   "source": [
    "c=sv_c.predict(X_test) \n",
    "df_res3 = pd.DataFrame(c, columns = ['SVM'])\n",
    "final3=pd.merge(df_res3,y_test,how='outer',left_index=True,right_index=True)\n",
    "pd.crosstab(final3.lightning, final3.SVM)"
   ]
  },
  {
   "cell_type": "code",
   "execution_count": 69,
   "id": "231b5f90-5c82-444d-a1a8-49a28956cf20",
   "metadata": {
    "tags": []
   },
   "outputs": [],
   "source": [
    "with open('tree_pkl', 'wb') as files:\n",
    "    pickle.dump(tree_clf, files)\n",
    "with open('tree_pkl' , 'rb') as f:\n",
    "    tree = pickle.load(f)"
   ]
  },
  {
   "cell_type": "code",
   "execution_count": 70,
   "id": "4db48ef7-07f1-4274-b496-aa484cf8d92b",
   "metadata": {},
   "outputs": [
    {
     "data": {
      "text/html": [
       "<div>\n",
       "<style scoped>\n",
       "    .dataframe tbody tr th:only-of-type {\n",
       "        vertical-align: middle;\n",
       "    }\n",
       "\n",
       "    .dataframe tbody tr th {\n",
       "        vertical-align: top;\n",
       "    }\n",
       "\n",
       "    .dataframe thead th {\n",
       "        text-align: right;\n",
       "    }\n",
       "</style>\n",
       "<table border=\"1\" class=\"dataframe\">\n",
       "  <thead>\n",
       "    <tr style=\"text-align: right;\">\n",
       "      <th>Decision_Tree</th>\n",
       "      <th>0</th>\n",
       "      <th>1</th>\n",
       "    </tr>\n",
       "    <tr>\n",
       "      <th>lightning</th>\n",
       "      <th></th>\n",
       "      <th></th>\n",
       "    </tr>\n",
       "  </thead>\n",
       "  <tbody>\n",
       "    <tr>\n",
       "      <th>0</th>\n",
       "      <td>5175</td>\n",
       "      <td>3478</td>\n",
       "    </tr>\n",
       "    <tr>\n",
       "      <th>1</th>\n",
       "      <td>68</td>\n",
       "      <td>39</td>\n",
       "    </tr>\n",
       "  </tbody>\n",
       "</table>\n",
       "</div>"
      ],
      "text/plain": [
       "Decision_Tree     0     1\n",
       "lightning                \n",
       "0              5175  3478\n",
       "1                68    39"
      ]
     },
     "execution_count": 70,
     "metadata": {},
     "output_type": "execute_result"
    }
   ],
   "source": [
    "d=tree.predict(X_test) \n",
    "df_res4= pd.DataFrame(d, columns = ['Decision_Tree'])\n",
    "final4=pd.merge(df_res4,y_test,how='outer',left_index=True,right_index=True)\n",
    "pd.crosstab(final4.lightning, final4.Decision_Tree)"
   ]
  },
  {
   "cell_type": "markdown",
   "id": "c97a6bcc-7ceb-4752-b1c9-65908593ce01",
   "metadata": {},
   "source": [
    "The best accuracy is shown by SVC that is 47%"
   ]
  },
  {
   "cell_type": "markdown",
   "id": "cae07c5f-cad7-461a-81b8-79e333917ae7",
   "metadata": {},
   "source": [
    "## Testing on San Diego"
   ]
  },
  {
   "cell_type": "code",
   "execution_count": 71,
   "id": "e7441b4f-6b00-48c8-8c20-a20756cb4fa6",
   "metadata": {},
   "outputs": [
    {
     "data": {
      "text/plain": [
       "(8760, 12)"
      ]
     },
     "execution_count": 71,
     "metadata": {},
     "output_type": "execute_result"
    }
   ],
   "source": [
    "test=pd.read_csv('test_sandiego.csv')\n",
    "X_test = test.drop('lightning', axis=1)\n",
    "y_test = test['lightning']\n",
    "X_test.shape"
   ]
  },
  {
   "cell_type": "code",
   "execution_count": 72,
   "id": "6b141141-b6a7-4dd8-bec9-eed655bc109d",
   "metadata": {},
   "outputs": [
    {
     "data": {
      "text/html": [
       "<div>\n",
       "<style scoped>\n",
       "    .dataframe tbody tr th:only-of-type {\n",
       "        vertical-align: middle;\n",
       "    }\n",
       "\n",
       "    .dataframe tbody tr th {\n",
       "        vertical-align: top;\n",
       "    }\n",
       "\n",
       "    .dataframe thead th {\n",
       "        text-align: right;\n",
       "    }\n",
       "</style>\n",
       "<table border=\"1\" class=\"dataframe\">\n",
       "  <thead>\n",
       "    <tr style=\"text-align: right;\">\n",
       "      <th></th>\n",
       "      <th>Unnamed: 0</th>\n",
       "      <th>sc_RH2M</th>\n",
       "      <th>sc_QV2M</th>\n",
       "      <th>sc_PRECTOTCORR</th>\n",
       "      <th>sc_T2M</th>\n",
       "      <th>sc_T2MDEW</th>\n",
       "      <th>sc_T2MWET</th>\n",
       "      <th>sc_PS</th>\n",
       "      <th>sc_WS10M</th>\n",
       "      <th>sc_WD10M</th>\n",
       "      <th>sc_WS50M</th>\n",
       "      <th>sc_WD50M</th>\n",
       "    </tr>\n",
       "  </thead>\n",
       "  <tbody>\n",
       "    <tr>\n",
       "      <th>0</th>\n",
       "      <td>0</td>\n",
       "      <td>0.868000</td>\n",
       "      <td>0.179104</td>\n",
       "      <td>0.01</td>\n",
       "      <td>-0.675204</td>\n",
       "      <td>0.191769</td>\n",
       "      <td>-0.348310</td>\n",
       "      <td>0.595745</td>\n",
       "      <td>-0.309434</td>\n",
       "      <td>-1.796339</td>\n",
       "      <td>-0.191228</td>\n",
       "      <td>-1.692055</td>\n",
       "    </tr>\n",
       "    <tr>\n",
       "      <th>1</th>\n",
       "      <td>1</td>\n",
       "      <td>0.868000</td>\n",
       "      <td>0.089552</td>\n",
       "      <td>0.01</td>\n",
       "      <td>-0.752037</td>\n",
       "      <td>0.108613</td>\n",
       "      <td>-0.447582</td>\n",
       "      <td>0.595745</td>\n",
       "      <td>-0.196226</td>\n",
       "      <td>-1.725877</td>\n",
       "      <td>-0.047368</td>\n",
       "      <td>-1.631254</td>\n",
       "    </tr>\n",
       "    <tr>\n",
       "      <th>2</th>\n",
       "      <td>2</td>\n",
       "      <td>0.868000</td>\n",
       "      <td>-0.026119</td>\n",
       "      <td>0.01</td>\n",
       "      <td>-0.806752</td>\n",
       "      <td>0.003394</td>\n",
       "      <td>-0.540009</td>\n",
       "      <td>0.510638</td>\n",
       "      <td>-0.105660</td>\n",
       "      <td>-1.612414</td>\n",
       "      <td>0.085965</td>\n",
       "      <td>-1.521756</td>\n",
       "    </tr>\n",
       "    <tr>\n",
       "      <th>3</th>\n",
       "      <td>3</td>\n",
       "      <td>0.868000</td>\n",
       "      <td>-0.138060</td>\n",
       "      <td>0.01</td>\n",
       "      <td>-0.837020</td>\n",
       "      <td>-0.106916</td>\n",
       "      <td>-0.617030</td>\n",
       "      <td>0.446809</td>\n",
       "      <td>-0.067925</td>\n",
       "      <td>-1.486461</td>\n",
       "      <td>0.156140</td>\n",
       "      <td>-1.402782</td>\n",
       "    </tr>\n",
       "    <tr>\n",
       "      <th>4</th>\n",
       "      <td>4</td>\n",
       "      <td>0.821232</td>\n",
       "      <td>-0.231343</td>\n",
       "      <td>0.03</td>\n",
       "      <td>-0.852154</td>\n",
       "      <td>-0.198557</td>\n",
       "      <td>-0.676936</td>\n",
       "      <td>0.446809</td>\n",
       "      <td>-0.037736</td>\n",
       "      <td>-1.395690</td>\n",
       "      <td>0.208772</td>\n",
       "      <td>-1.317210</td>\n",
       "    </tr>\n",
       "  </tbody>\n",
       "</table>\n",
       "</div>"
      ],
      "text/plain": [
       "   Unnamed: 0   sc_RH2M   sc_QV2M  sc_PRECTOTCORR    sc_T2M  sc_T2MDEW  \\\n",
       "0           0  0.868000  0.179104            0.01 -0.675204   0.191769   \n",
       "1           1  0.868000  0.089552            0.01 -0.752037   0.108613   \n",
       "2           2  0.868000 -0.026119            0.01 -0.806752   0.003394   \n",
       "3           3  0.868000 -0.138060            0.01 -0.837020  -0.106916   \n",
       "4           4  0.821232 -0.231343            0.03 -0.852154  -0.198557   \n",
       "\n",
       "   sc_T2MWET     sc_PS  sc_WS10M  sc_WD10M  sc_WS50M  sc_WD50M  \n",
       "0  -0.348310  0.595745 -0.309434 -1.796339 -0.191228 -1.692055  \n",
       "1  -0.447582  0.595745 -0.196226 -1.725877 -0.047368 -1.631254  \n",
       "2  -0.540009  0.510638 -0.105660 -1.612414  0.085965 -1.521756  \n",
       "3  -0.617030  0.446809 -0.067925 -1.486461  0.156140 -1.402782  \n",
       "4  -0.676936  0.446809 -0.037736 -1.395690  0.208772 -1.317210  "
      ]
     },
     "execution_count": 72,
     "metadata": {},
     "output_type": "execute_result"
    }
   ],
   "source": [
    "X_test.head()"
   ]
  },
  {
   "cell_type": "code",
   "execution_count": 73,
   "id": "f61773dc-4d5b-4349-8c33-d8d24c512ca0",
   "metadata": {},
   "outputs": [],
   "source": [
    "del X_test[X_test.columns[0]]"
   ]
  },
  {
   "cell_type": "code",
   "execution_count": 74,
   "id": "df38744b-3e5a-447d-8b8e-1a4f8df4210f",
   "metadata": {},
   "outputs": [
    {
     "data": {
      "text/html": [
       "<div>\n",
       "<style scoped>\n",
       "    .dataframe tbody tr th:only-of-type {\n",
       "        vertical-align: middle;\n",
       "    }\n",
       "\n",
       "    .dataframe tbody tr th {\n",
       "        vertical-align: top;\n",
       "    }\n",
       "\n",
       "    .dataframe thead th {\n",
       "        text-align: right;\n",
       "    }\n",
       "</style>\n",
       "<table border=\"1\" class=\"dataframe\">\n",
       "  <thead>\n",
       "    <tr style=\"text-align: right;\">\n",
       "      <th>logistic_regression</th>\n",
       "      <th>0</th>\n",
       "      <th>1</th>\n",
       "    </tr>\n",
       "    <tr>\n",
       "      <th>lightning</th>\n",
       "      <th></th>\n",
       "      <th></th>\n",
       "    </tr>\n",
       "  </thead>\n",
       "  <tbody>\n",
       "    <tr>\n",
       "      <th>0</th>\n",
       "      <td>6682</td>\n",
       "      <td>1997</td>\n",
       "    </tr>\n",
       "    <tr>\n",
       "      <th>1</th>\n",
       "      <td>53</td>\n",
       "      <td>28</td>\n",
       "    </tr>\n",
       "  </tbody>\n",
       "</table>\n",
       "</div>"
      ],
      "text/plain": [
       "logistic_regression     0     1\n",
       "lightning                      \n",
       "0                    6682  1997\n",
       "1                      53    28"
      ]
     },
     "execution_count": 74,
     "metadata": {},
     "output_type": "execute_result"
    }
   ],
   "source": [
    "a=lr.predict(X_test) \n",
    "df_res = pd.DataFrame(a, columns = ['logistic_regression'])\n",
    "final=pd.merge(df_res,y_test,how='outer',left_index=True,right_index=True)\n",
    "pd.crosstab(final.lightning, final.logistic_regression)"
   ]
  },
  {
   "cell_type": "code",
   "execution_count": 75,
   "id": "7a8f6e01-7ef4-4c9d-9e79-fbdd540c9cec",
   "metadata": {},
   "outputs": [
    {
     "data": {
      "text/html": [
       "<div>\n",
       "<style scoped>\n",
       "    .dataframe tbody tr th:only-of-type {\n",
       "        vertical-align: middle;\n",
       "    }\n",
       "\n",
       "    .dataframe tbody tr th {\n",
       "        vertical-align: top;\n",
       "    }\n",
       "\n",
       "    .dataframe thead th {\n",
       "        text-align: right;\n",
       "    }\n",
       "</style>\n",
       "<table border=\"1\" class=\"dataframe\">\n",
       "  <thead>\n",
       "    <tr style=\"text-align: right;\">\n",
       "      <th>K_NN</th>\n",
       "      <th>0</th>\n",
       "      <th>1</th>\n",
       "    </tr>\n",
       "    <tr>\n",
       "      <th>lightning</th>\n",
       "      <th></th>\n",
       "      <th></th>\n",
       "    </tr>\n",
       "  </thead>\n",
       "  <tbody>\n",
       "    <tr>\n",
       "      <th>0</th>\n",
       "      <td>7146</td>\n",
       "      <td>1533</td>\n",
       "    </tr>\n",
       "    <tr>\n",
       "      <th>1</th>\n",
       "      <td>66</td>\n",
       "      <td>15</td>\n",
       "    </tr>\n",
       "  </tbody>\n",
       "</table>\n",
       "</div>"
      ],
      "text/plain": [
       "K_NN          0     1\n",
       "lightning            \n",
       "0          7146  1533\n",
       "1            66    15"
      ]
     },
     "execution_count": 75,
     "metadata": {},
     "output_type": "execute_result"
    }
   ],
   "source": [
    "b=knn.predict(X_test) \n",
    "df_res2 = pd.DataFrame(b, columns = ['K_NN'])\n",
    "final2=pd.merge(df_res2,y_test,how='outer',left_index=True,right_index=True)\n",
    "pd.crosstab(final2.lightning, final2.K_NN)"
   ]
  },
  {
   "cell_type": "code",
   "execution_count": 76,
   "id": "817fcb1e-57c6-446e-a238-8296faf86384",
   "metadata": {},
   "outputs": [
    {
     "data": {
      "text/html": [
       "<div>\n",
       "<style scoped>\n",
       "    .dataframe tbody tr th:only-of-type {\n",
       "        vertical-align: middle;\n",
       "    }\n",
       "\n",
       "    .dataframe tbody tr th {\n",
       "        vertical-align: top;\n",
       "    }\n",
       "\n",
       "    .dataframe thead th {\n",
       "        text-align: right;\n",
       "    }\n",
       "</style>\n",
       "<table border=\"1\" class=\"dataframe\">\n",
       "  <thead>\n",
       "    <tr style=\"text-align: right;\">\n",
       "      <th>SVM</th>\n",
       "      <th>0</th>\n",
       "      <th>1</th>\n",
       "    </tr>\n",
       "    <tr>\n",
       "      <th>lightning</th>\n",
       "      <th></th>\n",
       "      <th></th>\n",
       "    </tr>\n",
       "  </thead>\n",
       "  <tbody>\n",
       "    <tr>\n",
       "      <th>0</th>\n",
       "      <td>5721</td>\n",
       "      <td>2958</td>\n",
       "    </tr>\n",
       "    <tr>\n",
       "      <th>1</th>\n",
       "      <td>27</td>\n",
       "      <td>54</td>\n",
       "    </tr>\n",
       "  </tbody>\n",
       "</table>\n",
       "</div>"
      ],
      "text/plain": [
       "SVM           0     1\n",
       "lightning            \n",
       "0          5721  2958\n",
       "1            27    54"
      ]
     },
     "execution_count": 76,
     "metadata": {},
     "output_type": "execute_result"
    }
   ],
   "source": [
    "c=sv_c.predict(X_test) \n",
    "df_res3 = pd.DataFrame(c, columns = ['SVM'])\n",
    "final3=pd.merge(df_res3,y_test,how='outer',left_index=True,right_index=True)\n",
    "pd.crosstab(final3.lightning, final3.SVM)"
   ]
  },
  {
   "cell_type": "code",
   "execution_count": 77,
   "id": "30e735e4-2961-4070-b2f4-6c223771fbfc",
   "metadata": {},
   "outputs": [
    {
     "data": {
      "text/html": [
       "<div>\n",
       "<style scoped>\n",
       "    .dataframe tbody tr th:only-of-type {\n",
       "        vertical-align: middle;\n",
       "    }\n",
       "\n",
       "    .dataframe tbody tr th {\n",
       "        vertical-align: top;\n",
       "    }\n",
       "\n",
       "    .dataframe thead th {\n",
       "        text-align: right;\n",
       "    }\n",
       "</style>\n",
       "<table border=\"1\" class=\"dataframe\">\n",
       "  <thead>\n",
       "    <tr style=\"text-align: right;\">\n",
       "      <th>Decision_Tree</th>\n",
       "      <th>0</th>\n",
       "      <th>1</th>\n",
       "    </tr>\n",
       "    <tr>\n",
       "      <th>lightning</th>\n",
       "      <th></th>\n",
       "      <th></th>\n",
       "    </tr>\n",
       "  </thead>\n",
       "  <tbody>\n",
       "    <tr>\n",
       "      <th>0</th>\n",
       "      <td>4840</td>\n",
       "      <td>3839</td>\n",
       "    </tr>\n",
       "    <tr>\n",
       "      <th>1</th>\n",
       "      <td>37</td>\n",
       "      <td>44</td>\n",
       "    </tr>\n",
       "  </tbody>\n",
       "</table>\n",
       "</div>"
      ],
      "text/plain": [
       "Decision_Tree     0     1\n",
       "lightning                \n",
       "0              4840  3839\n",
       "1                37    44"
      ]
     },
     "execution_count": 77,
     "metadata": {},
     "output_type": "execute_result"
    }
   ],
   "source": [
    "d=tree.predict(X_test) \n",
    "df_res4= pd.DataFrame(d, columns = ['Decision_Tree'])\n",
    "final4=pd.merge(df_res4,y_test,how='outer',left_index=True,right_index=True)\n",
    "pd.crosstab(final4.lightning, final4.Decision_Tree)"
   ]
  },
  {
   "cell_type": "markdown",
   "id": "365773bf-fffb-4ff1-84f7-b49f9eab3307",
   "metadata": {},
   "source": [
    "## Testing on Florida"
   ]
  },
  {
   "cell_type": "code",
   "execution_count": 78,
   "id": "3eece7f0-0b7b-4703-a377-1fcf021b8720",
   "metadata": {},
   "outputs": [
    {
     "data": {
      "text/plain": [
       "(8760, 12)"
      ]
     },
     "execution_count": 78,
     "metadata": {},
     "output_type": "execute_result"
    }
   ],
   "source": [
    "test=pd.read_csv('test_florida.csv')\n",
    "X_test = test.drop('lightning', axis=1)\n",
    "y_test = test['lightning']\n",
    "X_test.shape"
   ]
  },
  {
   "cell_type": "code",
   "execution_count": 79,
   "id": "21393ede-9e42-43d7-b59f-1def6d2ab5b1",
   "metadata": {},
   "outputs": [],
   "source": [
    "del X_test[X_test.columns[0]]"
   ]
  },
  {
   "cell_type": "code",
   "execution_count": 80,
   "id": "09a0f5dd-3e92-4c6c-aa08-42c115547a46",
   "metadata": {},
   "outputs": [
    {
     "data": {
      "text/html": [
       "<div>\n",
       "<style scoped>\n",
       "    .dataframe tbody tr th:only-of-type {\n",
       "        vertical-align: middle;\n",
       "    }\n",
       "\n",
       "    .dataframe tbody tr th {\n",
       "        vertical-align: top;\n",
       "    }\n",
       "\n",
       "    .dataframe thead th {\n",
       "        text-align: right;\n",
       "    }\n",
       "</style>\n",
       "<table border=\"1\" class=\"dataframe\">\n",
       "  <thead>\n",
       "    <tr style=\"text-align: right;\">\n",
       "      <th>logistic_regression</th>\n",
       "      <th>0</th>\n",
       "      <th>1</th>\n",
       "    </tr>\n",
       "    <tr>\n",
       "      <th>lightning</th>\n",
       "      <th></th>\n",
       "      <th></th>\n",
       "    </tr>\n",
       "  </thead>\n",
       "  <tbody>\n",
       "    <tr>\n",
       "      <th>0</th>\n",
       "      <td>6577</td>\n",
       "      <td>2027</td>\n",
       "    </tr>\n",
       "    <tr>\n",
       "      <th>1</th>\n",
       "      <td>112</td>\n",
       "      <td>44</td>\n",
       "    </tr>\n",
       "  </tbody>\n",
       "</table>\n",
       "</div>"
      ],
      "text/plain": [
       "logistic_regression     0     1\n",
       "lightning                      \n",
       "0                    6577  2027\n",
       "1                     112    44"
      ]
     },
     "execution_count": 80,
     "metadata": {},
     "output_type": "execute_result"
    }
   ],
   "source": [
    "a=lr.predict(X_test) \n",
    "df_res = pd.DataFrame(a, columns = ['logistic_regression'])\n",
    "final=pd.merge(df_res,y_test,how='outer',left_index=True,right_index=True)\n",
    "pd.crosstab(final.lightning, final.logistic_regression)"
   ]
  },
  {
   "cell_type": "code",
   "execution_count": 81,
   "id": "2730e925-cf3a-421a-91ab-ef6efdaeccd0",
   "metadata": {},
   "outputs": [
    {
     "data": {
      "text/html": [
       "<div>\n",
       "<style scoped>\n",
       "    .dataframe tbody tr th:only-of-type {\n",
       "        vertical-align: middle;\n",
       "    }\n",
       "\n",
       "    .dataframe tbody tr th {\n",
       "        vertical-align: top;\n",
       "    }\n",
       "\n",
       "    .dataframe thead th {\n",
       "        text-align: right;\n",
       "    }\n",
       "</style>\n",
       "<table border=\"1\" class=\"dataframe\">\n",
       "  <thead>\n",
       "    <tr style=\"text-align: right;\">\n",
       "      <th>K_NN</th>\n",
       "      <th>0</th>\n",
       "      <th>1</th>\n",
       "    </tr>\n",
       "    <tr>\n",
       "      <th>lightning</th>\n",
       "      <th></th>\n",
       "      <th></th>\n",
       "    </tr>\n",
       "  </thead>\n",
       "  <tbody>\n",
       "    <tr>\n",
       "      <th>0</th>\n",
       "      <td>7036</td>\n",
       "      <td>1568</td>\n",
       "    </tr>\n",
       "    <tr>\n",
       "      <th>1</th>\n",
       "      <td>123</td>\n",
       "      <td>33</td>\n",
       "    </tr>\n",
       "  </tbody>\n",
       "</table>\n",
       "</div>"
      ],
      "text/plain": [
       "K_NN          0     1\n",
       "lightning            \n",
       "0          7036  1568\n",
       "1           123    33"
      ]
     },
     "execution_count": 81,
     "metadata": {},
     "output_type": "execute_result"
    }
   ],
   "source": [
    "b=knn.predict(X_test) \n",
    "df_res2 = pd.DataFrame(b, columns = ['K_NN'])\n",
    "final2=pd.merge(df_res2,y_test,how='outer',left_index=True,right_index=True)\n",
    "pd.crosstab(final2.lightning, final2.K_NN)"
   ]
  },
  {
   "cell_type": "code",
   "execution_count": 82,
   "id": "d17ce965-887f-4d71-8970-975571670e81",
   "metadata": {},
   "outputs": [
    {
     "data": {
      "text/html": [
       "<div>\n",
       "<style scoped>\n",
       "    .dataframe tbody tr th:only-of-type {\n",
       "        vertical-align: middle;\n",
       "    }\n",
       "\n",
       "    .dataframe tbody tr th {\n",
       "        vertical-align: top;\n",
       "    }\n",
       "\n",
       "    .dataframe thead th {\n",
       "        text-align: right;\n",
       "    }\n",
       "</style>\n",
       "<table border=\"1\" class=\"dataframe\">\n",
       "  <thead>\n",
       "    <tr style=\"text-align: right;\">\n",
       "      <th>SVM</th>\n",
       "      <th>0</th>\n",
       "      <th>1</th>\n",
       "    </tr>\n",
       "    <tr>\n",
       "      <th>lightning</th>\n",
       "      <th></th>\n",
       "      <th></th>\n",
       "    </tr>\n",
       "  </thead>\n",
       "  <tbody>\n",
       "    <tr>\n",
       "      <th>0</th>\n",
       "      <td>5416</td>\n",
       "      <td>3188</td>\n",
       "    </tr>\n",
       "    <tr>\n",
       "      <th>1</th>\n",
       "      <td>84</td>\n",
       "      <td>72</td>\n",
       "    </tr>\n",
       "  </tbody>\n",
       "</table>\n",
       "</div>"
      ],
      "text/plain": [
       "SVM           0     1\n",
       "lightning            \n",
       "0          5416  3188\n",
       "1            84    72"
      ]
     },
     "execution_count": 82,
     "metadata": {},
     "output_type": "execute_result"
    }
   ],
   "source": [
    "c=sv_c.predict(X_test) \n",
    "df_res3 = pd.DataFrame(c, columns = ['SVM'])\n",
    "final3=pd.merge(df_res3,y_test,how='outer',left_index=True,right_index=True)\n",
    "pd.crosstab(final3.lightning, final3.SVM)"
   ]
  },
  {
   "cell_type": "code",
   "execution_count": 83,
   "id": "c9a76dd3-5883-48ec-9846-508503b90041",
   "metadata": {},
   "outputs": [
    {
     "data": {
      "text/html": [
       "<div>\n",
       "<style scoped>\n",
       "    .dataframe tbody tr th:only-of-type {\n",
       "        vertical-align: middle;\n",
       "    }\n",
       "\n",
       "    .dataframe tbody tr th {\n",
       "        vertical-align: top;\n",
       "    }\n",
       "\n",
       "    .dataframe thead th {\n",
       "        text-align: right;\n",
       "    }\n",
       "</style>\n",
       "<table border=\"1\" class=\"dataframe\">\n",
       "  <thead>\n",
       "    <tr style=\"text-align: right;\">\n",
       "      <th>Decision_Tree</th>\n",
       "      <th>0</th>\n",
       "      <th>1</th>\n",
       "    </tr>\n",
       "    <tr>\n",
       "      <th>lightning</th>\n",
       "      <th></th>\n",
       "      <th></th>\n",
       "    </tr>\n",
       "  </thead>\n",
       "  <tbody>\n",
       "    <tr>\n",
       "      <th>0</th>\n",
       "      <td>4727</td>\n",
       "      <td>3877</td>\n",
       "    </tr>\n",
       "    <tr>\n",
       "      <th>1</th>\n",
       "      <td>44</td>\n",
       "      <td>112</td>\n",
       "    </tr>\n",
       "  </tbody>\n",
       "</table>\n",
       "</div>"
      ],
      "text/plain": [
       "Decision_Tree     0     1\n",
       "lightning                \n",
       "0              4727  3877\n",
       "1                44   112"
      ]
     },
     "execution_count": 83,
     "metadata": {},
     "output_type": "execute_result"
    }
   ],
   "source": [
    "d=tree.predict(X_test) \n",
    "df_res4= pd.DataFrame(d, columns = ['Decision_Tree'])\n",
    "final4=pd.merge(df_res4,y_test,how='outer',left_index=True,right_index=True)\n",
    "pd.crosstab(final4.lightning, final4.Decision_Tree)"
   ]
  },
  {
   "cell_type": "code",
   "execution_count": null,
   "id": "90e672ce-aead-4eaf-b822-8ae15a4a65f5",
   "metadata": {},
   "outputs": [],
   "source": []
  }
 ],
 "metadata": {
  "kernelspec": {
   "display_name": "default:Python",
   "language": "python",
   "name": "conda-env-default-py"
  },
  "language_info": {
   "codemirror_mode": {
    "name": "ipython",
    "version": 3
   },
   "file_extension": ".py",
   "mimetype": "text/x-python",
   "name": "python",
   "nbconvert_exporter": "python",
   "pygments_lexer": "ipython3",
   "version": "3.9.7"
  }
 },
 "nbformat": 4,
 "nbformat_minor": 5
}
