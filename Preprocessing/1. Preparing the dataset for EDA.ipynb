{
 "cells": [
  {
   "cell_type": "code",
   "execution_count": 1,
   "id": "9ec69bec",
   "metadata": {},
   "outputs": [],
   "source": [
    "import numpy as np\n",
    "import pandas as pd"
   ]
  },
  {
   "cell_type": "code",
   "execution_count": 2,
   "id": "bb54fb05",
   "metadata": {},
   "outputs": [],
   "source": [
    "banda= pd.read_csv('Banda.csv')"
   ]
  },
  {
   "cell_type": "code",
   "execution_count": 3,
   "id": "0f781675",
   "metadata": {},
   "outputs": [],
   "source": [
    "chandauli=pd.read_csv('Chandauli .csv')"
   ]
  },
  {
   "cell_type": "code",
   "execution_count": 4,
   "id": "914d5c1d",
   "metadata": {},
   "outputs": [],
   "source": [
    "chitrakoot=pd.read_csv('Chitrakoot .csv')"
   ]
  },
  {
   "cell_type": "code",
   "execution_count": 5,
   "id": "41f15273",
   "metadata": {},
   "outputs": [],
   "source": [
    "fatehpur=pd.read_csv('Fatehpur.csv')"
   ]
  },
  {
   "cell_type": "code",
   "execution_count": 6,
   "id": "58fd475d",
   "metadata": {},
   "outputs": [],
   "source": [
    "idukki= pd.read_csv('Idukki.csv')"
   ]
  },
  {
   "cell_type": "code",
   "execution_count": 7,
   "id": "ad4b7508",
   "metadata": {},
   "outputs": [],
   "source": [
    "jhansi=pd.read_csv('Jhansi.csv')"
   ]
  },
  {
   "cell_type": "code",
   "execution_count": 8,
   "id": "07f405fe",
   "metadata": {},
   "outputs": [],
   "source": [
    "kausambi=pd.read_csv('Kausambi.csv')"
   ]
  },
  {
   "cell_type": "code",
   "execution_count": 9,
   "id": "c98abb8f",
   "metadata": {},
   "outputs": [],
   "source": [
    "mahoba=pd.read_csv('Mahoba.csv')"
   ]
  },
  {
   "cell_type": "code",
   "execution_count": 10,
   "id": "9a6b8868",
   "metadata": {},
   "outputs": [],
   "source": [
    "mirzapur=pd.read_csv('Mirzapur.csv')"
   ]
  },
  {
   "cell_type": "code",
   "execution_count": 11,
   "id": "dcbaac7c",
   "metadata": {},
   "outputs": [],
   "source": [
    "prayagraj=pd.read_csv('Prayagraj.csv')"
   ]
  },
  {
   "cell_type": "code",
   "execution_count": 12,
   "id": "09940369",
   "metadata": {},
   "outputs": [],
   "source": [
    "sant_ravidas=pd.read_csv('sant ravidas nagar.csv')"
   ]
  },
  {
   "cell_type": "code",
   "execution_count": 13,
   "id": "12a61a70",
   "metadata": {},
   "outputs": [],
   "source": [
    "son_bhadra=pd.read_csv('sonbhadra.csv')"
   ]
  },
  {
   "cell_type": "code",
   "execution_count": 14,
   "id": "7cd456a5",
   "metadata": {},
   "outputs": [],
   "source": [
    "varanasi=pd.read_csv('varanasi.csv')"
   ]
  },
  {
   "cell_type": "code",
   "execution_count": 15,
   "id": "9065c2a7",
   "metadata": {},
   "outputs": [],
   "source": [
    "wayanad=pd.read_csv('wayanad.csv')"
   ]
  },
  {
   "cell_type": "code",
   "execution_count": 16,
   "id": "1b0c4375",
   "metadata": {},
   "outputs": [],
   "source": [
    "banda['Location']= 'Banda'"
   ]
  },
  {
   "cell_type": "code",
   "execution_count": 17,
   "id": "242b6b7a",
   "metadata": {},
   "outputs": [
    {
     "data": {
      "text/html": [
       "<div>\n",
       "<style scoped>\n",
       "    .dataframe tbody tr th:only-of-type {\n",
       "        vertical-align: middle;\n",
       "    }\n",
       "\n",
       "    .dataframe tbody tr th {\n",
       "        vertical-align: top;\n",
       "    }\n",
       "\n",
       "    .dataframe thead th {\n",
       "        text-align: right;\n",
       "    }\n",
       "</style>\n",
       "<table border=\"1\" class=\"dataframe\">\n",
       "  <thead>\n",
       "    <tr style=\"text-align: right;\">\n",
       "      <th></th>\n",
       "      <th>YEAR</th>\n",
       "      <th>MO</th>\n",
       "      <th>DY</th>\n",
       "      <th>HR</th>\n",
       "      <th>T2M</th>\n",
       "      <th>T2MDEW</th>\n",
       "      <th>T2MWET</th>\n",
       "      <th>QV2M</th>\n",
       "      <th>RH2M</th>\n",
       "      <th>PRECTOTCORR</th>\n",
       "      <th>PS</th>\n",
       "      <th>WS10M</th>\n",
       "      <th>WD10M</th>\n",
       "      <th>WS50M</th>\n",
       "      <th>WD50M</th>\n",
       "      <th>Location</th>\n",
       "    </tr>\n",
       "  </thead>\n",
       "  <tbody>\n",
       "    <tr>\n",
       "      <th>0</th>\n",
       "      <td>2001</td>\n",
       "      <td>1</td>\n",
       "      <td>1</td>\n",
       "      <td>0</td>\n",
       "      <td>13.83</td>\n",
       "      <td>10.39</td>\n",
       "      <td>12.12</td>\n",
       "      <td>7.87</td>\n",
       "      <td>79.56</td>\n",
       "      <td>0.13</td>\n",
       "      <td>99.87</td>\n",
       "      <td>2.82</td>\n",
       "      <td>96.83</td>\n",
       "      <td>5.23</td>\n",
       "      <td>96.43</td>\n",
       "      <td>Banda</td>\n",
       "    </tr>\n",
       "    <tr>\n",
       "      <th>1</th>\n",
       "      <td>2001</td>\n",
       "      <td>1</td>\n",
       "      <td>1</td>\n",
       "      <td>1</td>\n",
       "      <td>13.73</td>\n",
       "      <td>10.64</td>\n",
       "      <td>12.19</td>\n",
       "      <td>8.00</td>\n",
       "      <td>81.44</td>\n",
       "      <td>0.12</td>\n",
       "      <td>99.83</td>\n",
       "      <td>2.64</td>\n",
       "      <td>107.90</td>\n",
       "      <td>4.69</td>\n",
       "      <td>107.05</td>\n",
       "      <td>Banda</td>\n",
       "    </tr>\n",
       "    <tr>\n",
       "      <th>2</th>\n",
       "      <td>2001</td>\n",
       "      <td>1</td>\n",
       "      <td>1</td>\n",
       "      <td>2</td>\n",
       "      <td>13.55</td>\n",
       "      <td>10.83</td>\n",
       "      <td>12.19</td>\n",
       "      <td>8.12</td>\n",
       "      <td>83.50</td>\n",
       "      <td>0.22</td>\n",
       "      <td>99.82</td>\n",
       "      <td>2.72</td>\n",
       "      <td>119.81</td>\n",
       "      <td>4.66</td>\n",
       "      <td>118.97</td>\n",
       "      <td>Banda</td>\n",
       "    </tr>\n",
       "    <tr>\n",
       "      <th>3</th>\n",
       "      <td>2001</td>\n",
       "      <td>1</td>\n",
       "      <td>1</td>\n",
       "      <td>3</td>\n",
       "      <td>13.37</td>\n",
       "      <td>10.97</td>\n",
       "      <td>12.17</td>\n",
       "      <td>8.18</td>\n",
       "      <td>85.19</td>\n",
       "      <td>0.10</td>\n",
       "      <td>99.80</td>\n",
       "      <td>3.02</td>\n",
       "      <td>129.96</td>\n",
       "      <td>4.91</td>\n",
       "      <td>129.44</td>\n",
       "      <td>Banda</td>\n",
       "    </tr>\n",
       "    <tr>\n",
       "      <th>4</th>\n",
       "      <td>2001</td>\n",
       "      <td>1</td>\n",
       "      <td>1</td>\n",
       "      <td>4</td>\n",
       "      <td>13.27</td>\n",
       "      <td>11.10</td>\n",
       "      <td>12.19</td>\n",
       "      <td>8.24</td>\n",
       "      <td>86.50</td>\n",
       "      <td>0.04</td>\n",
       "      <td>99.82</td>\n",
       "      <td>3.09</td>\n",
       "      <td>139.82</td>\n",
       "      <td>4.91</td>\n",
       "      <td>139.45</td>\n",
       "      <td>Banda</td>\n",
       "    </tr>\n",
       "  </tbody>\n",
       "</table>\n",
       "</div>"
      ],
      "text/plain": [
       "   YEAR  MO  DY  HR    T2M  T2MDEW  T2MWET  QV2M   RH2M  PRECTOTCORR     PS  \\\n",
       "0  2001   1   1   0  13.83   10.39   12.12  7.87  79.56         0.13  99.87   \n",
       "1  2001   1   1   1  13.73   10.64   12.19  8.00  81.44         0.12  99.83   \n",
       "2  2001   1   1   2  13.55   10.83   12.19  8.12  83.50         0.22  99.82   \n",
       "3  2001   1   1   3  13.37   10.97   12.17  8.18  85.19         0.10  99.80   \n",
       "4  2001   1   1   4  13.27   11.10   12.19  8.24  86.50         0.04  99.82   \n",
       "\n",
       "   WS10M   WD10M  WS50M   WD50M Location  \n",
       "0   2.82   96.83   5.23   96.43    Banda  \n",
       "1   2.64  107.90   4.69  107.05    Banda  \n",
       "2   2.72  119.81   4.66  118.97    Banda  \n",
       "3   3.02  129.96   4.91  129.44    Banda  \n",
       "4   3.09  139.82   4.91  139.45    Banda  "
      ]
     },
     "execution_count": 17,
     "metadata": {},
     "output_type": "execute_result"
    }
   ],
   "source": [
    "banda.head()"
   ]
  },
  {
   "cell_type": "code",
   "execution_count": 18,
   "id": "cbc15879",
   "metadata": {},
   "outputs": [],
   "source": [
    "chandauli['Location']= 'Chandauli'"
   ]
  },
  {
   "cell_type": "code",
   "execution_count": 19,
   "id": "a39db9a0",
   "metadata": {},
   "outputs": [],
   "source": [
    "chitrakoot['Location']= 'Chitrakoot'"
   ]
  },
  {
   "cell_type": "code",
   "execution_count": 20,
   "id": "dab6f617",
   "metadata": {},
   "outputs": [],
   "source": [
    "idukki['Location']= 'Idukki'"
   ]
  },
  {
   "cell_type": "code",
   "execution_count": 21,
   "id": "eef36c2b",
   "metadata": {},
   "outputs": [],
   "source": [
    "jhansi['Location']= 'Jhansi'"
   ]
  },
  {
   "cell_type": "code",
   "execution_count": 22,
   "id": "5b53918d",
   "metadata": {},
   "outputs": [],
   "source": [
    "kausambi['Location']= 'Kausambi'"
   ]
  },
  {
   "cell_type": "code",
   "execution_count": 23,
   "id": "2d96216f",
   "metadata": {},
   "outputs": [],
   "source": [
    "mahoba['Location']= 'Mahoba'"
   ]
  },
  {
   "cell_type": "code",
   "execution_count": 24,
   "id": "6f682825",
   "metadata": {},
   "outputs": [],
   "source": [
    "mirzapur['Location']= 'Mirzapur'"
   ]
  },
  {
   "cell_type": "code",
   "execution_count": 25,
   "id": "1b6bbccc",
   "metadata": {},
   "outputs": [],
   "source": [
    "prayagraj['Location']= 'Prayagraj'"
   ]
  },
  {
   "cell_type": "code",
   "execution_count": 26,
   "id": "2cabad7b",
   "metadata": {},
   "outputs": [],
   "source": [
    "sant_ravidas['Location']= 'sant_ravidas'"
   ]
  },
  {
   "cell_type": "code",
   "execution_count": 27,
   "id": "4ee2a9c7",
   "metadata": {},
   "outputs": [],
   "source": [
    "son_bhadra['Location']= 'son bhadra'"
   ]
  },
  {
   "cell_type": "code",
   "execution_count": 28,
   "id": "798a4319",
   "metadata": {},
   "outputs": [],
   "source": [
    "varanasi['Location']= 'Varanasi'"
   ]
  },
  {
   "cell_type": "code",
   "execution_count": 29,
   "id": "f4dbe401",
   "metadata": {},
   "outputs": [],
   "source": [
    "wayanad['Location']= 'Wayanad'"
   ]
  },
  {
   "cell_type": "code",
   "execution_count": 30,
   "id": "a51066cd",
   "metadata": {},
   "outputs": [],
   "source": [
    "fatehpur['Location']='Fatehpur'"
   ]
  },
  {
   "cell_type": "code",
   "execution_count": 31,
   "id": "d57ae54a",
   "metadata": {},
   "outputs": [],
   "source": [
    "mydfs = [banda,chandauli,chitrakoot,idukki,jhansi,kausambi,mahoba,mirzapur,prayagraj,sant_ravidas,son_bhadra,varanasi,wayanad]"
   ]
  },
  {
   "cell_type": "code",
   "execution_count": 32,
   "id": "9f50dab6",
   "metadata": {},
   "outputs": [],
   "source": [
    "df = pd.concat(mydfs)"
   ]
  },
  {
   "cell_type": "code",
   "execution_count": 33,
   "id": "0fb5adb1",
   "metadata": {},
   "outputs": [
    {
     "data": {
      "text/html": [
       "<div>\n",
       "<style scoped>\n",
       "    .dataframe tbody tr th:only-of-type {\n",
       "        vertical-align: middle;\n",
       "    }\n",
       "\n",
       "    .dataframe tbody tr th {\n",
       "        vertical-align: top;\n",
       "    }\n",
       "\n",
       "    .dataframe thead th {\n",
       "        text-align: right;\n",
       "    }\n",
       "</style>\n",
       "<table border=\"1\" class=\"dataframe\">\n",
       "  <thead>\n",
       "    <tr style=\"text-align: right;\">\n",
       "      <th></th>\n",
       "      <th>YEAR</th>\n",
       "      <th>MO</th>\n",
       "      <th>DY</th>\n",
       "      <th>HR</th>\n",
       "      <th>T2M</th>\n",
       "      <th>T2MDEW</th>\n",
       "      <th>T2MWET</th>\n",
       "      <th>QV2M</th>\n",
       "      <th>RH2M</th>\n",
       "      <th>PRECTOTCORR</th>\n",
       "      <th>PS</th>\n",
       "      <th>WS10M</th>\n",
       "      <th>WD10M</th>\n",
       "      <th>WS50M</th>\n",
       "      <th>WD50M</th>\n",
       "      <th>Location</th>\n",
       "      <th>Unnamed: 0</th>\n",
       "      <th>date</th>\n",
       "    </tr>\n",
       "  </thead>\n",
       "  <tbody>\n",
       "    <tr>\n",
       "      <th>0</th>\n",
       "      <td>2001</td>\n",
       "      <td>1</td>\n",
       "      <td>1</td>\n",
       "      <td>0</td>\n",
       "      <td>13.83</td>\n",
       "      <td>10.39</td>\n",
       "      <td>12.12</td>\n",
       "      <td>7.87</td>\n",
       "      <td>79.56</td>\n",
       "      <td>0.13</td>\n",
       "      <td>99.87</td>\n",
       "      <td>2.82</td>\n",
       "      <td>96.83</td>\n",
       "      <td>5.23</td>\n",
       "      <td>96.43</td>\n",
       "      <td>Banda</td>\n",
       "      <td>NaN</td>\n",
       "      <td>NaN</td>\n",
       "    </tr>\n",
       "    <tr>\n",
       "      <th>1</th>\n",
       "      <td>2001</td>\n",
       "      <td>1</td>\n",
       "      <td>1</td>\n",
       "      <td>1</td>\n",
       "      <td>13.73</td>\n",
       "      <td>10.64</td>\n",
       "      <td>12.19</td>\n",
       "      <td>8.00</td>\n",
       "      <td>81.44</td>\n",
       "      <td>0.12</td>\n",
       "      <td>99.83</td>\n",
       "      <td>2.64</td>\n",
       "      <td>107.90</td>\n",
       "      <td>4.69</td>\n",
       "      <td>107.05</td>\n",
       "      <td>Banda</td>\n",
       "      <td>NaN</td>\n",
       "      <td>NaN</td>\n",
       "    </tr>\n",
       "    <tr>\n",
       "      <th>2</th>\n",
       "      <td>2001</td>\n",
       "      <td>1</td>\n",
       "      <td>1</td>\n",
       "      <td>2</td>\n",
       "      <td>13.55</td>\n",
       "      <td>10.83</td>\n",
       "      <td>12.19</td>\n",
       "      <td>8.12</td>\n",
       "      <td>83.50</td>\n",
       "      <td>0.22</td>\n",
       "      <td>99.82</td>\n",
       "      <td>2.72</td>\n",
       "      <td>119.81</td>\n",
       "      <td>4.66</td>\n",
       "      <td>118.97</td>\n",
       "      <td>Banda</td>\n",
       "      <td>NaN</td>\n",
       "      <td>NaN</td>\n",
       "    </tr>\n",
       "    <tr>\n",
       "      <th>3</th>\n",
       "      <td>2001</td>\n",
       "      <td>1</td>\n",
       "      <td>1</td>\n",
       "      <td>3</td>\n",
       "      <td>13.37</td>\n",
       "      <td>10.97</td>\n",
       "      <td>12.17</td>\n",
       "      <td>8.18</td>\n",
       "      <td>85.19</td>\n",
       "      <td>0.10</td>\n",
       "      <td>99.80</td>\n",
       "      <td>3.02</td>\n",
       "      <td>129.96</td>\n",
       "      <td>4.91</td>\n",
       "      <td>129.44</td>\n",
       "      <td>Banda</td>\n",
       "      <td>NaN</td>\n",
       "      <td>NaN</td>\n",
       "    </tr>\n",
       "    <tr>\n",
       "      <th>4</th>\n",
       "      <td>2001</td>\n",
       "      <td>1</td>\n",
       "      <td>1</td>\n",
       "      <td>4</td>\n",
       "      <td>13.27</td>\n",
       "      <td>11.10</td>\n",
       "      <td>12.19</td>\n",
       "      <td>8.24</td>\n",
       "      <td>86.50</td>\n",
       "      <td>0.04</td>\n",
       "      <td>99.82</td>\n",
       "      <td>3.09</td>\n",
       "      <td>139.82</td>\n",
       "      <td>4.91</td>\n",
       "      <td>139.45</td>\n",
       "      <td>Banda</td>\n",
       "      <td>NaN</td>\n",
       "      <td>NaN</td>\n",
       "    </tr>\n",
       "  </tbody>\n",
       "</table>\n",
       "</div>"
      ],
      "text/plain": [
       "   YEAR  MO  DY  HR    T2M  T2MDEW  T2MWET  QV2M   RH2M  PRECTOTCORR     PS  \\\n",
       "0  2001   1   1   0  13.83   10.39   12.12  7.87  79.56         0.13  99.87   \n",
       "1  2001   1   1   1  13.73   10.64   12.19  8.00  81.44         0.12  99.83   \n",
       "2  2001   1   1   2  13.55   10.83   12.19  8.12  83.50         0.22  99.82   \n",
       "3  2001   1   1   3  13.37   10.97   12.17  8.18  85.19         0.10  99.80   \n",
       "4  2001   1   1   4  13.27   11.10   12.19  8.24  86.50         0.04  99.82   \n",
       "\n",
       "   WS10M   WD10M  WS50M   WD50M Location  Unnamed: 0 date  \n",
       "0   2.82   96.83   5.23   96.43    Banda         NaN  NaN  \n",
       "1   2.64  107.90   4.69  107.05    Banda         NaN  NaN  \n",
       "2   2.72  119.81   4.66  118.97    Banda         NaN  NaN  \n",
       "3   3.02  129.96   4.91  129.44    Banda         NaN  NaN  \n",
       "4   3.09  139.82   4.91  139.45    Banda         NaN  NaN  "
      ]
     },
     "execution_count": 33,
     "metadata": {},
     "output_type": "execute_result"
    }
   ],
   "source": [
    "df.head()"
   ]
  },
  {
   "cell_type": "code",
   "execution_count": 34,
   "id": "10a4b657",
   "metadata": {},
   "outputs": [
    {
     "data": {
      "text/plain": [
       "array(['Banda', 'Chandauli', 'Chitrakoot', 'Idukki', 'Jhansi', 'Kausambi',\n",
       "       'Mahoba', 'Mirzapur', 'Prayagraj', 'sant_ravidas', 'son bhadra',\n",
       "       'Varanasi', 'Wayanad'], dtype=object)"
      ]
     },
     "execution_count": 34,
     "metadata": {},
     "output_type": "execute_result"
    }
   ],
   "source": [
    "df.Location.unique()"
   ]
  },
  {
   "cell_type": "code",
   "execution_count": 35,
   "id": "4d7dce8f",
   "metadata": {},
   "outputs": [],
   "source": [
    "df.to_csv('final_list.csv')"
   ]
  },
  {
   "cell_type": "code",
   "execution_count": 36,
   "id": "25264c77",
   "metadata": {},
   "outputs": [
    {
     "data": {
      "text/plain": [
       "(2307240, 18)"
      ]
     },
     "execution_count": 36,
     "metadata": {},
     "output_type": "execute_result"
    }
   ],
   "source": [
    "df.shape"
   ]
  },
  {
   "cell_type": "code",
   "execution_count": 37,
   "id": "0a0a5698",
   "metadata": {},
   "outputs": [],
   "source": [
    "df['date']=pd.to_datetime(dict(year=df.YEAR, month=df.MO, day=df.DY))"
   ]
  },
  {
   "cell_type": "code",
   "execution_count": 38,
   "id": "95b30fce",
   "metadata": {},
   "outputs": [
    {
     "data": {
      "text/html": [
       "<div>\n",
       "<style scoped>\n",
       "    .dataframe tbody tr th:only-of-type {\n",
       "        vertical-align: middle;\n",
       "    }\n",
       "\n",
       "    .dataframe tbody tr th {\n",
       "        vertical-align: top;\n",
       "    }\n",
       "\n",
       "    .dataframe thead th {\n",
       "        text-align: right;\n",
       "    }\n",
       "</style>\n",
       "<table border=\"1\" class=\"dataframe\">\n",
       "  <thead>\n",
       "    <tr style=\"text-align: right;\">\n",
       "      <th></th>\n",
       "      <th>YEAR</th>\n",
       "      <th>MO</th>\n",
       "      <th>DY</th>\n",
       "      <th>HR</th>\n",
       "      <th>T2M</th>\n",
       "      <th>T2MDEW</th>\n",
       "      <th>T2MWET</th>\n",
       "      <th>QV2M</th>\n",
       "      <th>RH2M</th>\n",
       "      <th>PRECTOTCORR</th>\n",
       "      <th>PS</th>\n",
       "      <th>WS10M</th>\n",
       "      <th>WD10M</th>\n",
       "      <th>WS50M</th>\n",
       "      <th>WD50M</th>\n",
       "      <th>Location</th>\n",
       "      <th>Unnamed: 0</th>\n",
       "      <th>date</th>\n",
       "    </tr>\n",
       "  </thead>\n",
       "  <tbody>\n",
       "    <tr>\n",
       "      <th>0</th>\n",
       "      <td>2001</td>\n",
       "      <td>1</td>\n",
       "      <td>1</td>\n",
       "      <td>0</td>\n",
       "      <td>13.83</td>\n",
       "      <td>10.39</td>\n",
       "      <td>12.12</td>\n",
       "      <td>7.87</td>\n",
       "      <td>79.56</td>\n",
       "      <td>0.13</td>\n",
       "      <td>99.87</td>\n",
       "      <td>2.82</td>\n",
       "      <td>96.83</td>\n",
       "      <td>5.23</td>\n",
       "      <td>96.43</td>\n",
       "      <td>Banda</td>\n",
       "      <td>NaN</td>\n",
       "      <td>2001-01-01</td>\n",
       "    </tr>\n",
       "    <tr>\n",
       "      <th>1</th>\n",
       "      <td>2001</td>\n",
       "      <td>1</td>\n",
       "      <td>1</td>\n",
       "      <td>1</td>\n",
       "      <td>13.73</td>\n",
       "      <td>10.64</td>\n",
       "      <td>12.19</td>\n",
       "      <td>8.00</td>\n",
       "      <td>81.44</td>\n",
       "      <td>0.12</td>\n",
       "      <td>99.83</td>\n",
       "      <td>2.64</td>\n",
       "      <td>107.90</td>\n",
       "      <td>4.69</td>\n",
       "      <td>107.05</td>\n",
       "      <td>Banda</td>\n",
       "      <td>NaN</td>\n",
       "      <td>2001-01-01</td>\n",
       "    </tr>\n",
       "    <tr>\n",
       "      <th>2</th>\n",
       "      <td>2001</td>\n",
       "      <td>1</td>\n",
       "      <td>1</td>\n",
       "      <td>2</td>\n",
       "      <td>13.55</td>\n",
       "      <td>10.83</td>\n",
       "      <td>12.19</td>\n",
       "      <td>8.12</td>\n",
       "      <td>83.50</td>\n",
       "      <td>0.22</td>\n",
       "      <td>99.82</td>\n",
       "      <td>2.72</td>\n",
       "      <td>119.81</td>\n",
       "      <td>4.66</td>\n",
       "      <td>118.97</td>\n",
       "      <td>Banda</td>\n",
       "      <td>NaN</td>\n",
       "      <td>2001-01-01</td>\n",
       "    </tr>\n",
       "    <tr>\n",
       "      <th>3</th>\n",
       "      <td>2001</td>\n",
       "      <td>1</td>\n",
       "      <td>1</td>\n",
       "      <td>3</td>\n",
       "      <td>13.37</td>\n",
       "      <td>10.97</td>\n",
       "      <td>12.17</td>\n",
       "      <td>8.18</td>\n",
       "      <td>85.19</td>\n",
       "      <td>0.10</td>\n",
       "      <td>99.80</td>\n",
       "      <td>3.02</td>\n",
       "      <td>129.96</td>\n",
       "      <td>4.91</td>\n",
       "      <td>129.44</td>\n",
       "      <td>Banda</td>\n",
       "      <td>NaN</td>\n",
       "      <td>2001-01-01</td>\n",
       "    </tr>\n",
       "    <tr>\n",
       "      <th>4</th>\n",
       "      <td>2001</td>\n",
       "      <td>1</td>\n",
       "      <td>1</td>\n",
       "      <td>4</td>\n",
       "      <td>13.27</td>\n",
       "      <td>11.10</td>\n",
       "      <td>12.19</td>\n",
       "      <td>8.24</td>\n",
       "      <td>86.50</td>\n",
       "      <td>0.04</td>\n",
       "      <td>99.82</td>\n",
       "      <td>3.09</td>\n",
       "      <td>139.82</td>\n",
       "      <td>4.91</td>\n",
       "      <td>139.45</td>\n",
       "      <td>Banda</td>\n",
       "      <td>NaN</td>\n",
       "      <td>2001-01-01</td>\n",
       "    </tr>\n",
       "  </tbody>\n",
       "</table>\n",
       "</div>"
      ],
      "text/plain": [
       "   YEAR  MO  DY  HR    T2M  T2MDEW  T2MWET  QV2M   RH2M  PRECTOTCORR     PS  \\\n",
       "0  2001   1   1   0  13.83   10.39   12.12  7.87  79.56         0.13  99.87   \n",
       "1  2001   1   1   1  13.73   10.64   12.19  8.00  81.44         0.12  99.83   \n",
       "2  2001   1   1   2  13.55   10.83   12.19  8.12  83.50         0.22  99.82   \n",
       "3  2001   1   1   3  13.37   10.97   12.17  8.18  85.19         0.10  99.80   \n",
       "4  2001   1   1   4  13.27   11.10   12.19  8.24  86.50         0.04  99.82   \n",
       "\n",
       "   WS10M   WD10M  WS50M   WD50M Location  Unnamed: 0       date  \n",
       "0   2.82   96.83   5.23   96.43    Banda         NaN 2001-01-01  \n",
       "1   2.64  107.90   4.69  107.05    Banda         NaN 2001-01-01  \n",
       "2   2.72  119.81   4.66  118.97    Banda         NaN 2001-01-01  \n",
       "3   3.02  129.96   4.91  129.44    Banda         NaN 2001-01-01  \n",
       "4   3.09  139.82   4.91  139.45    Banda         NaN 2001-01-01  "
      ]
     },
     "execution_count": 38,
     "metadata": {},
     "output_type": "execute_result"
    }
   ],
   "source": [
    "df.head()"
   ]
  },
  {
   "cell_type": "code",
   "execution_count": 39,
   "id": "62f0f488",
   "metadata": {},
   "outputs": [],
   "source": [
    "banda['date']=pd.to_datetime(dict(year=banda.YEAR, month=banda.MO, day=banda.DY))"
   ]
  },
  {
   "cell_type": "code",
   "execution_count": 40,
   "id": "35b4893e",
   "metadata": {},
   "outputs": [],
   "source": [
    "chandauli['date']=pd.to_datetime(dict(year=chandauli.YEAR, month=chandauli.MO, day=chandauli.DY))"
   ]
  },
  {
   "cell_type": "code",
   "execution_count": 41,
   "id": "878d0397",
   "metadata": {},
   "outputs": [],
   "source": [
    "chitrakoot['date']=pd.to_datetime(dict(year=chitrakoot.YEAR, month=chitrakoot.MO, day=chitrakoot.DY))"
   ]
  },
  {
   "cell_type": "code",
   "execution_count": 42,
   "id": "34da06fa",
   "metadata": {},
   "outputs": [],
   "source": [
    "fatehpur['date']=pd.to_datetime(dict(year=fatehpur.YEAR, month=fatehpur.MO, day=fatehpur.DY))"
   ]
  },
  {
   "cell_type": "code",
   "execution_count": 43,
   "id": "66878ebe",
   "metadata": {},
   "outputs": [],
   "source": [
    "idukki['date']=pd.to_datetime(dict(year=idukki.YEAR, month=idukki.MO, day=idukki.DY))"
   ]
  },
  {
   "cell_type": "code",
   "execution_count": 44,
   "id": "c62e0fa8",
   "metadata": {},
   "outputs": [],
   "source": [
    "jhansi['date']=pd.to_datetime(dict(year=jhansi.YEAR, month=jhansi.MO, day=jhansi.DY))"
   ]
  },
  {
   "cell_type": "code",
   "execution_count": 45,
   "id": "dbfe5893",
   "metadata": {},
   "outputs": [],
   "source": [
    "kausambi['date']=pd.to_datetime(dict(year=kausambi.YEAR, month=kausambi.MO, day=kausambi.DY))"
   ]
  },
  {
   "cell_type": "code",
   "execution_count": 46,
   "id": "31b80786",
   "metadata": {},
   "outputs": [],
   "source": [
    "mahoba['date']=pd.to_datetime(dict(year=mahoba.YEAR, month=mahoba.MO, day=mahoba.DY))"
   ]
  },
  {
   "cell_type": "code",
   "execution_count": 47,
   "id": "b3a4da73",
   "metadata": {},
   "outputs": [],
   "source": [
    "mirzapur['date']=pd.to_datetime(dict(year=mirzapur.YEAR, month=mirzapur.MO, day=mirzapur.DY))"
   ]
  },
  {
   "cell_type": "code",
   "execution_count": 48,
   "id": "c8054a9d",
   "metadata": {},
   "outputs": [],
   "source": [
    "prayagraj['date']=pd.to_datetime(dict(year=prayagraj.YEAR, month=prayagraj.MO, day=prayagraj.DY))"
   ]
  },
  {
   "cell_type": "code",
   "execution_count": 49,
   "id": "8500d5eb",
   "metadata": {},
   "outputs": [],
   "source": [
    "sant_ravidas['date']=pd.to_datetime(dict(year=sant_ravidas.YEAR, month=sant_ravidas.MO, day=sant_ravidas.DY))"
   ]
  },
  {
   "cell_type": "code",
   "execution_count": 50,
   "id": "5ff17f90",
   "metadata": {},
   "outputs": [],
   "source": [
    "son_bhadra['date']=pd.to_datetime(dict(year=son_bhadra.YEAR, month=son_bhadra.MO, day=son_bhadra.DY))"
   ]
  },
  {
   "cell_type": "code",
   "execution_count": 51,
   "id": "86610a02",
   "metadata": {},
   "outputs": [],
   "source": [
    "varanasi['date']=pd.to_datetime(dict(year=varanasi.YEAR, month=varanasi.MO, day=varanasi.DY))"
   ]
  },
  {
   "cell_type": "code",
   "execution_count": 52,
   "id": "8ef61c86",
   "metadata": {},
   "outputs": [],
   "source": [
    "wayanad['date']=pd.to_datetime(dict(year=wayanad.YEAR, month=wayanad.MO, day=wayanad.DY))"
   ]
  },
  {
   "cell_type": "code",
   "execution_count": 53,
   "id": "690bacfb",
   "metadata": {},
   "outputs": [],
   "source": [
    "mydf1=[banda,chandauli,chitrakoot,fatehpur,jhansi,mahoba,mirzapur,prayagraj,sant_ravidas,son_bhadra, varanasi]"
   ]
  },
  {
   "cell_type": "code",
   "execution_count": 54,
   "id": "b4e22c63",
   "metadata": {},
   "outputs": [],
   "source": [
    "mydf2=[wayanad,idukki]"
   ]
  },
  {
   "cell_type": "code",
   "execution_count": 55,
   "id": "ad2b6419",
   "metadata": {},
   "outputs": [],
   "source": [
    "train = pd.concat(mydf1)"
   ]
  },
  {
   "cell_type": "code",
   "execution_count": 56,
   "id": "ded8fb89",
   "metadata": {},
   "outputs": [],
   "source": [
    "test=pd.concat(mydf2)"
   ]
  },
  {
   "cell_type": "code",
   "execution_count": 57,
   "id": "0cf17706",
   "metadata": {},
   "outputs": [
    {
     "data": {
      "text/plain": [
       "(1952280, 18)"
      ]
     },
     "execution_count": 57,
     "metadata": {},
     "output_type": "execute_result"
    }
   ],
   "source": [
    "train.shape"
   ]
  },
  {
   "cell_type": "code",
   "execution_count": 58,
   "id": "d3448d12",
   "metadata": {},
   "outputs": [
    {
     "data": {
      "text/plain": [
       "(354960, 17)"
      ]
     },
     "execution_count": 58,
     "metadata": {},
     "output_type": "execute_result"
    }
   ],
   "source": [
    "test.shape"
   ]
  },
  {
   "cell_type": "code",
   "execution_count": 59,
   "id": "bdfec1ac",
   "metadata": {},
   "outputs": [],
   "source": [
    "train.to_csv('train.csv')"
   ]
  },
  {
   "cell_type": "code",
   "execution_count": 60,
   "id": "0e34f096",
   "metadata": {},
   "outputs": [],
   "source": [
    "test.to_csv('test.csv')"
   ]
  },
  {
   "cell_type": "code",
   "execution_count": 61,
   "id": "64166161",
   "metadata": {},
   "outputs": [
    {
     "data": {
      "text/html": [
       "<div>\n",
       "<style scoped>\n",
       "    .dataframe tbody tr th:only-of-type {\n",
       "        vertical-align: middle;\n",
       "    }\n",
       "\n",
       "    .dataframe tbody tr th {\n",
       "        vertical-align: top;\n",
       "    }\n",
       "\n",
       "    .dataframe thead th {\n",
       "        text-align: right;\n",
       "    }\n",
       "</style>\n",
       "<table border=\"1\" class=\"dataframe\">\n",
       "  <thead>\n",
       "    <tr style=\"text-align: right;\">\n",
       "      <th></th>\n",
       "      <th>YEAR</th>\n",
       "      <th>MO</th>\n",
       "      <th>DY</th>\n",
       "      <th>HR</th>\n",
       "      <th>T2M</th>\n",
       "      <th>T2MDEW</th>\n",
       "      <th>T2MWET</th>\n",
       "      <th>QV2M</th>\n",
       "      <th>RH2M</th>\n",
       "      <th>PRECTOTCORR</th>\n",
       "      <th>PS</th>\n",
       "      <th>WS10M</th>\n",
       "      <th>WD10M</th>\n",
       "      <th>WS50M</th>\n",
       "      <th>WD50M</th>\n",
       "      <th>Location</th>\n",
       "      <th>date</th>\n",
       "    </tr>\n",
       "  </thead>\n",
       "  <tbody>\n",
       "    <tr>\n",
       "      <th>0</th>\n",
       "      <td>2001</td>\n",
       "      <td>1</td>\n",
       "      <td>1</td>\n",
       "      <td>0</td>\n",
       "      <td>13.83</td>\n",
       "      <td>10.39</td>\n",
       "      <td>12.12</td>\n",
       "      <td>7.87</td>\n",
       "      <td>79.56</td>\n",
       "      <td>0.13</td>\n",
       "      <td>99.87</td>\n",
       "      <td>2.82</td>\n",
       "      <td>96.83</td>\n",
       "      <td>5.23</td>\n",
       "      <td>96.43</td>\n",
       "      <td>Banda</td>\n",
       "      <td>2001-01-01</td>\n",
       "    </tr>\n",
       "    <tr>\n",
       "      <th>1</th>\n",
       "      <td>2001</td>\n",
       "      <td>1</td>\n",
       "      <td>1</td>\n",
       "      <td>1</td>\n",
       "      <td>13.73</td>\n",
       "      <td>10.64</td>\n",
       "      <td>12.19</td>\n",
       "      <td>8.00</td>\n",
       "      <td>81.44</td>\n",
       "      <td>0.12</td>\n",
       "      <td>99.83</td>\n",
       "      <td>2.64</td>\n",
       "      <td>107.90</td>\n",
       "      <td>4.69</td>\n",
       "      <td>107.05</td>\n",
       "      <td>Banda</td>\n",
       "      <td>2001-01-01</td>\n",
       "    </tr>\n",
       "    <tr>\n",
       "      <th>2</th>\n",
       "      <td>2001</td>\n",
       "      <td>1</td>\n",
       "      <td>1</td>\n",
       "      <td>2</td>\n",
       "      <td>13.55</td>\n",
       "      <td>10.83</td>\n",
       "      <td>12.19</td>\n",
       "      <td>8.12</td>\n",
       "      <td>83.50</td>\n",
       "      <td>0.22</td>\n",
       "      <td>99.82</td>\n",
       "      <td>2.72</td>\n",
       "      <td>119.81</td>\n",
       "      <td>4.66</td>\n",
       "      <td>118.97</td>\n",
       "      <td>Banda</td>\n",
       "      <td>2001-01-01</td>\n",
       "    </tr>\n",
       "    <tr>\n",
       "      <th>3</th>\n",
       "      <td>2001</td>\n",
       "      <td>1</td>\n",
       "      <td>1</td>\n",
       "      <td>3</td>\n",
       "      <td>13.37</td>\n",
       "      <td>10.97</td>\n",
       "      <td>12.17</td>\n",
       "      <td>8.18</td>\n",
       "      <td>85.19</td>\n",
       "      <td>0.10</td>\n",
       "      <td>99.80</td>\n",
       "      <td>3.02</td>\n",
       "      <td>129.96</td>\n",
       "      <td>4.91</td>\n",
       "      <td>129.44</td>\n",
       "      <td>Banda</td>\n",
       "      <td>2001-01-01</td>\n",
       "    </tr>\n",
       "    <tr>\n",
       "      <th>4</th>\n",
       "      <td>2001</td>\n",
       "      <td>1</td>\n",
       "      <td>1</td>\n",
       "      <td>4</td>\n",
       "      <td>13.27</td>\n",
       "      <td>11.10</td>\n",
       "      <td>12.19</td>\n",
       "      <td>8.24</td>\n",
       "      <td>86.50</td>\n",
       "      <td>0.04</td>\n",
       "      <td>99.82</td>\n",
       "      <td>3.09</td>\n",
       "      <td>139.82</td>\n",
       "      <td>4.91</td>\n",
       "      <td>139.45</td>\n",
       "      <td>Banda</td>\n",
       "      <td>2001-01-01</td>\n",
       "    </tr>\n",
       "  </tbody>\n",
       "</table>\n",
       "</div>"
      ],
      "text/plain": [
       "   YEAR  MO  DY  HR    T2M  T2MDEW  T2MWET  QV2M   RH2M  PRECTOTCORR     PS  \\\n",
       "0  2001   1   1   0  13.83   10.39   12.12  7.87  79.56         0.13  99.87   \n",
       "1  2001   1   1   1  13.73   10.64   12.19  8.00  81.44         0.12  99.83   \n",
       "2  2001   1   1   2  13.55   10.83   12.19  8.12  83.50         0.22  99.82   \n",
       "3  2001   1   1   3  13.37   10.97   12.17  8.18  85.19         0.10  99.80   \n",
       "4  2001   1   1   4  13.27   11.10   12.19  8.24  86.50         0.04  99.82   \n",
       "\n",
       "   WS10M   WD10M  WS50M   WD50M Location       date  \n",
       "0   2.82   96.83   5.23   96.43    Banda 2001-01-01  \n",
       "1   2.64  107.90   4.69  107.05    Banda 2001-01-01  \n",
       "2   2.72  119.81   4.66  118.97    Banda 2001-01-01  \n",
       "3   3.02  129.96   4.91  129.44    Banda 2001-01-01  \n",
       "4   3.09  139.82   4.91  139.45    Banda 2001-01-01  "
      ]
     },
     "execution_count": 61,
     "metadata": {},
     "output_type": "execute_result"
    }
   ],
   "source": [
    "banda.head()"
   ]
  },
  {
   "cell_type": "code",
   "execution_count": 62,
   "id": "f0160799",
   "metadata": {},
   "outputs": [],
   "source": [
    "banda.to_csv('banda.csv')"
   ]
  },
  {
   "cell_type": "code",
   "execution_count": 63,
   "id": "d562322c",
   "metadata": {},
   "outputs": [],
   "source": [
    "jhansi.to_csv('jhansi.csv')"
   ]
  },
  {
   "cell_type": "code",
   "execution_count": 64,
   "id": "e9ca5bab",
   "metadata": {},
   "outputs": [],
   "source": [
    "chandauli.to_csv('chandauli.csv')"
   ]
  },
  {
   "cell_type": "code",
   "execution_count": 65,
   "id": "1888e250",
   "metadata": {},
   "outputs": [],
   "source": [
    "chitrakoot.to_csv('chitrakoot.csv')"
   ]
  },
  {
   "cell_type": "code",
   "execution_count": 66,
   "id": "ec28a985",
   "metadata": {},
   "outputs": [],
   "source": [
    "kausambi.to_csv('kausambi.csv')"
   ]
  },
  {
   "cell_type": "code",
   "execution_count": 67,
   "id": "10526374",
   "metadata": {},
   "outputs": [],
   "source": [
    "prayagraj.to_csv('prayagraj.csv')"
   ]
  },
  {
   "cell_type": "code",
   "execution_count": 68,
   "id": "3090783f",
   "metadata": {},
   "outputs": [],
   "source": [
    "fatehpur.to_csv('fatehpur.csv')"
   ]
  },
  {
   "cell_type": "code",
   "execution_count": 69,
   "id": "6a889301",
   "metadata": {},
   "outputs": [],
   "source": [
    "son_bhadra.to_csv('sonbhadra.csv')"
   ]
  },
  {
   "cell_type": "code",
   "execution_count": 70,
   "id": "4df64e35",
   "metadata": {},
   "outputs": [],
   "source": [
    "mahoba.to_csv('mahoba.csv')"
   ]
  },
  {
   "cell_type": "code",
   "execution_count": 71,
   "id": "e4366f27",
   "metadata": {},
   "outputs": [],
   "source": [
    "mirzapur.to_csv('mirzapur.csv')"
   ]
  },
  {
   "cell_type": "code",
   "execution_count": 72,
   "id": "6b762c0f",
   "metadata": {},
   "outputs": [],
   "source": [
    "sant_ravidas.to_csv('santravi.csv')"
   ]
  },
  {
   "cell_type": "code",
   "execution_count": 73,
   "id": "4c72edb5",
   "metadata": {},
   "outputs": [],
   "source": [
    "varanasi.to_csv('varanasi.csv')"
   ]
  },
  {
   "cell_type": "code",
   "execution_count": 74,
   "id": "0f9cf57a",
   "metadata": {},
   "outputs": [],
   "source": [
    "idukki.to_csv('idukki.csv')"
   ]
  },
  {
   "cell_type": "code",
   "execution_count": 75,
   "id": "8d1ab707",
   "metadata": {},
   "outputs": [],
   "source": [
    "wayanad.to_csv('wayanad.csv')"
   ]
  },
  {
   "cell_type": "code",
   "execution_count": null,
   "id": "6ad07a3f",
   "metadata": {},
   "outputs": [],
   "source": []
  }
 ],
 "metadata": {
  "kernelspec": {
   "display_name": "Python 3 (ipykernel)",
   "language": "python",
   "name": "python3"
  },
  "language_info": {
   "codemirror_mode": {
    "name": "ipython",
    "version": 3
   },
   "file_extension": ".py",
   "mimetype": "text/x-python",
   "name": "python",
   "nbconvert_exporter": "python",
   "pygments_lexer": "ipython3",
   "version": "3.8.12"
  }
 },
 "nbformat": 4,
 "nbformat_minor": 5
}
